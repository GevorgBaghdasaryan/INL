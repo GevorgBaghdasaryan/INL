{
  "nbformat": 4,
  "nbformat_minor": 0,
  "metadata": {
    "colab": {
      "name": "POLEVAL6.1_models.ipynb",
      "provenance": [],
      "collapsed_sections": []
    },
    "kernelspec": {
      "name": "python3",
      "display_name": "Python 3"
    },
    "language_info": {
      "name": "python"
    }
  },
  "cells": [
    {
      "cell_type": "markdown",
      "source": [
        "# 2019 POLEVAL TASK 6.1\n",
        "**Fit ML models**\n",
        "\n",
        "\n",
        "---\n",
        "\n",
        "\n",
        "\n",
        "\n",
        "\n",
        "http://2019.poleval.pl/index.php/tasks/task6\n"
      ],
      "metadata": {
        "id": "kTigSmskg1wR"
      }
    },
    {
      "cell_type": "markdown",
      "source": [
        "## To install and download"
      ],
      "metadata": {
        "id": "zlALc8A9NOL7"
      }
    },
    {
      "cell_type": "code",
      "execution_count": 1,
      "metadata": {
        "id": "ENfVBrKSgxR8"
      },
      "outputs": [],
      "source": [
        "from IPython.display import clear_output\n",
        "import pandas as pd\n",
        "from pydrive.auth import GoogleAuth\n",
        "from pydrive.drive import GoogleDrive\n",
        "from google.colab import auth\n",
        "from oauth2client.client import GoogleCredentials\n",
        "import re\n",
        "import numpy as np\n",
        "import string\n",
        "import time\n",
        "\n",
        "# sklearn - modele do ML\n",
        "from sklearn.svm import LinearSVC\n",
        "from sklearn.naive_bayes import GaussianNB\n",
        "from sklearn.linear_model import LogisticRegression\n",
        "from sklearn.model_selection import train_test_split\n",
        "from sklearn.feature_extraction.text import TfidfVectorizer\n",
        "from sklearn.metrics import confusion_matrix, classification_report\n",
        "from sklearn.metrics import roc_auc_score\n",
        "from sklearn.metrics import roc_curve, auc\n",
        "from sklearn.multiclass import OneVsRestClassifier\n",
        "from sklearn.svm import SVC\n",
        "import seaborn as sns\n",
        "# model\n",
        "import tensorflow as tf\n",
        "import keras\n",
        "from keras.models import Sequential\n",
        "from keras import layers\n",
        "from tensorflow.keras.optimizers import RMSprop, Adam\n",
        "from keras.preprocessing.text import Tokenizer\n",
        "from keras.preprocessing.sequence import pad_sequences\n",
        "from keras import regularizers\n",
        "from keras import backend as K\n",
        "from keras.callbacks import ModelCheckpoint\n",
        "from sklearn.model_selection import train_test_split\n",
        "\n",
        "# ewaluacja\n",
        "from sklearn.metrics import confusion_matrix\n",
        "import matplotlib.pyplot as plt\n",
        "\n",
        "\n",
        "import warnings\n",
        "warnings.filterwarnings('ignore')"
      ]
    },
    {
      "cell_type": "code",
      "source": [
        "#Authenticate\n",
        "from google.colab import drive\n",
        "drive.mount('/content/drive/')"
      ],
      "metadata": {
        "colab": {
          "base_uri": "https://localhost:8080/"
        },
        "id": "QFW7zeHfdsYM",
        "outputId": "02c394f1-b0e9-4743-fa70-96ad9525de7f"
      },
      "execution_count": 2,
      "outputs": [
        {
          "output_type": "stream",
          "name": "stdout",
          "text": [
            "Mounted at /content/drive/\n"
          ]
        }
      ]
    },
    {
      "cell_type": "code",
      "source": [
        "path1 = '/content/drive/MyDrive/POLEVAL_6.1/train_data_preprocessed.csv' \n",
        "path2 = '/content/drive/MyDrive/POLEVAL_6.1/test_data_preprocessed.csv'  \n",
        "\n",
        "train_data = pd.read_csv(path1, delimiter = \",\")\n",
        "test_data = pd.read_csv(path2, delimiter = \",\")\n",
        "train_data = train_data.drop([\"Unnamed: 0\"], axis = 1)\n",
        "test_data = test_data.drop([\"Unnamed: 0\"], axis = 1)\n",
        "\n",
        "test_data.head()"
      ],
      "metadata": {
        "colab": {
          "base_uri": "https://localhost:8080/",
          "height": 206
        },
        "id": "ElHk4du5h6Sr",
        "outputId": "a4bc59ff-a343-4a32-963b-48dc7cb23fa7"
      },
      "execution_count": 3,
      "outputs": [
        {
          "output_type": "execute_result",
          "data": {
            "text/html": [
              "\n",
              "  <div id=\"df-1a35c57b-f133-40aa-bdb1-1aae1bd9bd32\">\n",
              "    <div class=\"colab-df-container\">\n",
              "      <div>\n",
              "<style scoped>\n",
              "    .dataframe tbody tr th:only-of-type {\n",
              "        vertical-align: middle;\n",
              "    }\n",
              "\n",
              "    .dataframe tbody tr th {\n",
              "        vertical-align: top;\n",
              "    }\n",
              "\n",
              "    .dataframe thead th {\n",
              "        text-align: right;\n",
              "    }\n",
              "</style>\n",
              "<table border=\"1\" class=\"dataframe\">\n",
              "  <thead>\n",
              "    <tr style=\"text-align: right;\">\n",
              "      <th></th>\n",
              "      <th>tweets_txt</th>\n",
              "      <th>tag</th>\n",
              "      <th>tag_val</th>\n",
              "      <th>clean_tokenized</th>\n",
              "      <th>cleaned_text</th>\n",
              "      <th>lemmatized</th>\n",
              "    </tr>\n",
              "  </thead>\n",
              "  <tbody>\n",
              "    <tr>\n",
              "      <th>0</th>\n",
              "      <td>@anonymized_account spoko, jak im duda z moraw...</td>\n",
              "      <td>0</td>\n",
              "      <td>Neutral</td>\n",
              "      <td>['spoko', 'duda', 'morawieckim', 'zamówią', 'p...</td>\n",
              "      <td>spoko duda morawieckim zamówią pięć piw</td>\n",
              "      <td>spoko duda morawieckim zamówić pięć piwo</td>\n",
              "    </tr>\n",
              "    <tr>\n",
              "      <th>1</th>\n",
              "      <td>@anonymized_account @anonymized_account ale on...</td>\n",
              "      <td>0</td>\n",
              "      <td>Neutral</td>\n",
              "      <td>['szans', 'zagrania', 'proba', 'czysta', 'prow...</td>\n",
              "      <td>szans zagrania proba czysta prowizorka</td>\n",
              "      <td>szansa zagranie proba czysty prowizorka</td>\n",
              "    </tr>\n",
              "    <tr>\n",
              "      <th>2</th>\n",
              "      <td>@anonymized_account no czy prezes nie miał rac...</td>\n",
              "      <td>0</td>\n",
              "      <td>Neutral</td>\n",
              "      <td>['prezes', 'racji', 'mówiącze', 'zdradzieckie'...</td>\n",
              "      <td>prezes racji mówiącze zdradzieckie mordy racji</td>\n",
              "      <td>prezes racja mówiącze zdradziecki morda racja</td>\n",
              "    </tr>\n",
              "    <tr>\n",
              "      <th>3</th>\n",
              "      <td>@anonymized_account @anonymized_account przeci...</td>\n",
              "      <td>0</td>\n",
              "      <td>Neutral</td>\n",
              "      <td>['przewrotka']</td>\n",
              "      <td>przewrotka</td>\n",
              "      <td>przewrotka</td>\n",
              "    </tr>\n",
              "    <tr>\n",
              "      <th>4</th>\n",
              "      <td>@anonymized_account @anonymized_account owszem...</td>\n",
              "      <td>0</td>\n",
              "      <td>Neutral</td>\n",
              "      <td>['podatki', 'okolicznościach', 'małysza', 'odp...</td>\n",
              "      <td>podatki okolicznościach małysza odpalili teamu...</td>\n",
              "      <td>podatek okoliczność małysza odpalić team orlen</td>\n",
              "    </tr>\n",
              "  </tbody>\n",
              "</table>\n",
              "</div>\n",
              "      <button class=\"colab-df-convert\" onclick=\"convertToInteractive('df-1a35c57b-f133-40aa-bdb1-1aae1bd9bd32')\"\n",
              "              title=\"Convert this dataframe to an interactive table.\"\n",
              "              style=\"display:none;\">\n",
              "        \n",
              "  <svg xmlns=\"http://www.w3.org/2000/svg\" height=\"24px\"viewBox=\"0 0 24 24\"\n",
              "       width=\"24px\">\n",
              "    <path d=\"M0 0h24v24H0V0z\" fill=\"none\"/>\n",
              "    <path d=\"M18.56 5.44l.94 2.06.94-2.06 2.06-.94-2.06-.94-.94-2.06-.94 2.06-2.06.94zm-11 1L8.5 8.5l.94-2.06 2.06-.94-2.06-.94L8.5 2.5l-.94 2.06-2.06.94zm10 10l.94 2.06.94-2.06 2.06-.94-2.06-.94-.94-2.06-.94 2.06-2.06.94z\"/><path d=\"M17.41 7.96l-1.37-1.37c-.4-.4-.92-.59-1.43-.59-.52 0-1.04.2-1.43.59L10.3 9.45l-7.72 7.72c-.78.78-.78 2.05 0 2.83L4 21.41c.39.39.9.59 1.41.59.51 0 1.02-.2 1.41-.59l7.78-7.78 2.81-2.81c.8-.78.8-2.07 0-2.86zM5.41 20L4 18.59l7.72-7.72 1.47 1.35L5.41 20z\"/>\n",
              "  </svg>\n",
              "      </button>\n",
              "      \n",
              "  <style>\n",
              "    .colab-df-container {\n",
              "      display:flex;\n",
              "      flex-wrap:wrap;\n",
              "      gap: 12px;\n",
              "    }\n",
              "\n",
              "    .colab-df-convert {\n",
              "      background-color: #E8F0FE;\n",
              "      border: none;\n",
              "      border-radius: 50%;\n",
              "      cursor: pointer;\n",
              "      display: none;\n",
              "      fill: #1967D2;\n",
              "      height: 32px;\n",
              "      padding: 0 0 0 0;\n",
              "      width: 32px;\n",
              "    }\n",
              "\n",
              "    .colab-df-convert:hover {\n",
              "      background-color: #E2EBFA;\n",
              "      box-shadow: 0px 1px 2px rgba(60, 64, 67, 0.3), 0px 1px 3px 1px rgba(60, 64, 67, 0.15);\n",
              "      fill: #174EA6;\n",
              "    }\n",
              "\n",
              "    [theme=dark] .colab-df-convert {\n",
              "      background-color: #3B4455;\n",
              "      fill: #D2E3FC;\n",
              "    }\n",
              "\n",
              "    [theme=dark] .colab-df-convert:hover {\n",
              "      background-color: #434B5C;\n",
              "      box-shadow: 0px 1px 3px 1px rgba(0, 0, 0, 0.15);\n",
              "      filter: drop-shadow(0px 1px 2px rgba(0, 0, 0, 0.3));\n",
              "      fill: #FFFFFF;\n",
              "    }\n",
              "  </style>\n",
              "\n",
              "      <script>\n",
              "        const buttonEl =\n",
              "          document.querySelector('#df-1a35c57b-f133-40aa-bdb1-1aae1bd9bd32 button.colab-df-convert');\n",
              "        buttonEl.style.display =\n",
              "          google.colab.kernel.accessAllowed ? 'block' : 'none';\n",
              "\n",
              "        async function convertToInteractive(key) {\n",
              "          const element = document.querySelector('#df-1a35c57b-f133-40aa-bdb1-1aae1bd9bd32');\n",
              "          const dataTable =\n",
              "            await google.colab.kernel.invokeFunction('convertToInteractive',\n",
              "                                                     [key], {});\n",
              "          if (!dataTable) return;\n",
              "\n",
              "          const docLinkHtml = 'Like what you see? Visit the ' +\n",
              "            '<a target=\"_blank\" href=https://colab.research.google.com/notebooks/data_table.ipynb>data table notebook</a>'\n",
              "            + ' to learn more about interactive tables.';\n",
              "          element.innerHTML = '';\n",
              "          dataTable['output_type'] = 'display_data';\n",
              "          await google.colab.output.renderOutput(dataTable, element);\n",
              "          const docLink = document.createElement('div');\n",
              "          docLink.innerHTML = docLinkHtml;\n",
              "          element.appendChild(docLink);\n",
              "        }\n",
              "      </script>\n",
              "    </div>\n",
              "  </div>\n",
              "  "
            ],
            "text/plain": [
              "                                          tweets_txt  ...                                      lemmatized\n",
              "0  @anonymized_account spoko, jak im duda z moraw...  ...        spoko duda morawieckim zamówić pięć piwo\n",
              "1  @anonymized_account @anonymized_account ale on...  ...         szansa zagranie proba czysty prowizorka\n",
              "2  @anonymized_account no czy prezes nie miał rac...  ...   prezes racja mówiącze zdradziecki morda racja\n",
              "3  @anonymized_account @anonymized_account przeci...  ...                                      przewrotka\n",
              "4  @anonymized_account @anonymized_account owszem...  ...  podatek okoliczność małysza odpalić team orlen\n",
              "\n",
              "[5 rows x 6 columns]"
            ]
          },
          "metadata": {},
          "execution_count": 3
        }
      ]
    },
    {
      "cell_type": "markdown",
      "source": [
        "## Join and split"
      ],
      "metadata": {
        "id": "TdZDl_5y7VDx"
      }
    },
    {
      "cell_type": "code",
      "source": [
        "df = train_data.append(test_data, ignore_index=True)"
      ],
      "metadata": {
        "id": "_AvTGxfT6_PX"
      },
      "execution_count": 6,
      "outputs": []
    },
    {
      "cell_type": "code",
      "source": [
        "X = df['lemmatized'].values.astype('U')\n",
        "Y = df['tag'].values.astype('U')\n",
        "\n",
        "X_train, X_test, y_train, y_test = train_test_split(X, Y, test_size = 0.2, random_state =37)\n",
        "X_validation, X_test, y_validation, y_test = train_test_split(X_test, y_test, test_size = 0.5, random_state =37)"
      ],
      "metadata": {
        "id": "3UMXm6Han79Z"
      },
      "execution_count": 8,
      "outputs": []
    },
    {
      "cell_type": "markdown",
      "source": [
        "## Vectorize data"
      ],
      "metadata": {
        "id": "9VjuES4tnrDB"
      }
    },
    {
      "cell_type": "code",
      "source": [
        "vectorizer = TfidfVectorizer(ngram_range=(1,2), max_features=10041)\n",
        "vectors = vectorizer.fit_transform(X_train, X_test)"
      ],
      "metadata": {
        "id": "aepUZL_HnqPF"
      },
      "execution_count": 9,
      "outputs": []
    },
    {
      "cell_type": "code",
      "source": [
        "X_train_vec = vectorizer.transform(X_train)\n",
        "X_test_vec  = vectorizer.transform(X_test)"
      ],
      "metadata": {
        "id": "2MG9WaPSESBD"
      },
      "execution_count": 10,
      "outputs": []
    },
    {
      "cell_type": "markdown",
      "source": [
        "## Define model evaluation function \n",
        "\n",
        "Perl script calculates Precision, Recall, Balanced F-score and Accuracy, however separate function model_Evalute was defined. PERL script was inconvient to run in Python"
      ],
      "metadata": {
        "id": "dHMqPxgGVvvb"
      }
    },
    {
      "cell_type": "code",
      "source": [
        "import subprocess, os\n",
        "model_eval = subprocess.Popen([\"perl\", \"/content/drive/MyDrive/evaluate1.pl\"], stdout=subprocess.PIPE)"
      ],
      "metadata": {
        "id": "0VXzkeKdT8QU"
      },
      "execution_count": null,
      "outputs": []
    },
    {
      "cell_type": "code",
      "source": [
        "def model_Evaluate(model):\n",
        "  # Predykcja danych na danych testowych\n",
        "  y_pred = model.predict(X_test_vec)\n",
        "\n",
        "  # Wyświetlenie metryk ewaluacji na podstawie predykcji i ground truth (faktycznych etykiet)\n",
        "  print(classification_report(y_test, y_pred))\n",
        "\n",
        "  # Obliczamy i wyświetlamy confusion matrix\n",
        "  cf_matrix = confusion_matrix(y_test, y_pred)\n",
        "  categories = ['Neutral','Harmful']\n",
        "  group_names = ['True Neutral','False Harmful', 'False Neutral','True Harmful']\n",
        "  group_percentages = ['{0:.2%}'.format(value) for value in cf_matrix.flatten() / np.sum(cf_matrix)]\n",
        "  labels = [f'{v1}n{v2}' for v1, v2 in zip(group_names, group_percentages)]\n",
        "  labels = np.asarray(labels).reshape(2,2)\n",
        "  sns.heatmap(cf_matrix, annot = labels, cmap = 'Blues',fmt = '',\n",
        "  xticklabels = categories, yticklabels = categories)\n",
        "  plt.xlabel(\"Predicted values\", fontdict = {'size':14}, labelpad = 10)\n",
        "  plt.ylabel(\"Actual values\" , fontdict = {'size':14}, labelpad = 10)\n",
        "  plt.title (\"Confusion Matrix\", fontdict = {'size':18}, pad = 20)"
      ],
      "metadata": {
        "id": "T9i5UzJKnpqJ"
      },
      "execution_count": 11,
      "outputs": []
    },
    {
      "cell_type": "markdown",
      "source": [
        "## Model 1 - Linear Support Vector Classification."
      ],
      "metadata": {
        "id": "MuhsWjjVD9he"
      }
    },
    {
      "cell_type": "code",
      "source": [
        "clf = LinearSVC(random_state=0)\n",
        "y_pred1 = clf.fit(X_train_vec, y_train).decision_function(X_test_vec)\n",
        "model_Evaluate(clf)"
      ],
      "metadata": {
        "colab": {
          "base_uri": "https://localhost:8080/",
          "height": 478
        },
        "id": "4pkpVpTCraxG",
        "outputId": "50a21ce1-2bfc-44c7-a4ab-d42aab378648"
      },
      "execution_count": 12,
      "outputs": [
        {
          "output_type": "stream",
          "name": "stdout",
          "text": [
            "              precision    recall  f1-score   support\n",
            "\n",
            "           0       0.93      0.98      0.95       997\n",
            "           1       0.60      0.28      0.38       106\n",
            "\n",
            "    accuracy                           0.91      1103\n",
            "   macro avg       0.76      0.63      0.67      1103\n",
            "weighted avg       0.90      0.91      0.90      1103\n",
            "\n"
          ]
        },
        {
          "output_type": "display_data",
          "data": {
            "image/png": "[encoded data removed]",
            "text/plain": [
              "<Figure size 432x288 with 2 Axes>"
            ]
          },
          "metadata": {
            "needs_background": "light"
          }
        }
      ]
    },
    {
      "cell_type": "code",
      "source": [
        "y_test1 = y_test.astype(int)\n",
        "fpr, tpr, thresholds = roc_curve(y_test1, y_pred1)\n",
        "roc_auc = auc(fpr, tpr)\n",
        "plt.figure()\n",
        "plt.plot(fpr, tpr, color='darkorange', lw=1, label='ROC curve (area = %0.2f)' % roc_auc)\n",
        "plt.xlim([0.0, 1.0])\n",
        "plt.ylim([0.0, 1.05])\n",
        "plt.xlabel('False Positive Rate')\n",
        "plt.ylabel('True Positive Rate')\n",
        "plt.title('ROC CURVE')\n",
        "plt.legend(loc=\"lower right\")\n",
        "plt.show()"
      ],
      "metadata": {
        "colab": {
          "base_uri": "https://localhost:8080/",
          "height": 295
        },
        "id": "ZtRm5iLkrftZ",
        "outputId": "73db5132-b858-42cb-f8f7-09b59e618b87"
      },
      "execution_count": 13,
      "outputs": [
        {
          "output_type": "display_data",
          "data": {
            "image/png": "[encoded data removed]",
            "text/plain": [
              "<Figure size 432x288 with 1 Axes>"
            ]
          },
          "metadata": {
            "needs_background": "light"
          }
        }
      ]
    },
    {
      "cell_type": "markdown",
      "source": [
        "## Model 2 - Logistic Regression"
      ],
      "metadata": {
        "id": "nYPOJfdCR3nC"
      }
    },
    {
      "cell_type": "code",
      "source": [
        "LRmodel = LogisticRegression(max_iter = 1000)\n",
        "y_pred2 = LRmodel.fit(X_train_vec, y_train).decision_function(X_test_vec)"
      ],
      "metadata": {
        "id": "geTcifx-SAZ6"
      },
      "execution_count": 14,
      "outputs": []
    },
    {
      "cell_type": "code",
      "source": [
        "model_Evaluate(LRmodel)"
      ],
      "metadata": {
        "colab": {
          "base_uri": "https://localhost:8080/",
          "height": 478
        },
        "id": "CMru7B_epAsz",
        "outputId": "9c08120c-1152-42c2-9af3-31878b9c5793"
      },
      "execution_count": 15,
      "outputs": [
        {
          "output_type": "stream",
          "name": "stdout",
          "text": [
            "              precision    recall  f1-score   support\n",
            "\n",
            "           0       0.91      1.00      0.95       997\n",
            "           1       0.80      0.04      0.07       106\n",
            "\n",
            "    accuracy                           0.91      1103\n",
            "   macro avg       0.85      0.52      0.51      1103\n",
            "weighted avg       0.90      0.91      0.87      1103\n",
            "\n"
          ]
        },
        {
          "output_type": "display_data",
          "data": {
            "image/png": "[encoded data removed]",
            "text/plain": [
              "<Figure size 432x288 with 2 Axes>"
            ]
          },
          "metadata": {
            "needs_background": "light"
          }
        }
      ]
    },
    {
      "cell_type": "code",
      "source": [
        "## ROC Curve\n",
        "y_test2 = y_test.astype(int)\n",
        "fpr, tpr, thresholds = roc_curve(y_test2, y_pred2)\n",
        "roc_auc = auc(fpr, tpr)\n",
        "plt.figure()\n",
        "plt.plot(fpr, tpr, color='darkorange', lw=1, label='ROC curve (area = %0.2f)' % roc_auc)\n",
        "plt.xlim([0.0, 1.0])\n",
        "plt.ylim([0.0, 1.05])\n",
        "plt.xlabel('False Positive Rate')\n",
        "plt.ylabel('True Positive Rate')\n",
        "plt.title('ROC CURVE - Logistic Regression')\n",
        "plt.legend(loc=\"lower right\")\n",
        "plt.show()"
      ],
      "metadata": {
        "colab": {
          "base_uri": "https://localhost:8080/",
          "height": 295
        },
        "id": "hZWtnVK5pXXd",
        "outputId": "23b6c0df-ccfc-4f11-ca9e-dd7d0d214aec"
      },
      "execution_count": 16,
      "outputs": [
        {
          "output_type": "display_data",
          "data": {
            "image/png": "[encoded data removed]",
            "text/plain": [
              "<Figure size 432x288 with 1 Axes>"
            ]
          },
          "metadata": {
            "needs_background": "light"
          }
        }
      ]
    },
    {
      "cell_type": "markdown",
      "source": [
        "## Model 3 - Bidirectional LSTM\n"
      ],
      "metadata": {
        "id": "dHH2b_b7pKQp"
      }
    },
    {
      "cell_type": "markdown",
      "source": [
        "### Prepare data for NN model"
      ],
      "metadata": {
        "id": "LKYElwN6sBcS"
      }
    },
    {
      "cell_type": "code",
      "source": [
        "temp = []\n",
        "data_to_list = df['lemmatized'].values.tolist()\n",
        "temp = data_to_list\n",
        "list(temp[:5])"
      ],
      "metadata": {
        "colab": {
          "base_uri": "https://localhost:8080/"
        },
        "id": "7WsbOxZmpJzB",
        "outputId": "48b3d423-95d0-4cc3-f472-404bd9d8ac1e"
      },
      "execution_count": 20,
      "outputs": [
        {
          "output_type": "execute_result",
          "data": {
            "text/plain": [
              "['faworyt tytuł cracovia zobaczyć typ sprawdzić',\n",
              " 'brawo daria kibic dobry zły',\n",
              " 'super polski premiera składać kwiat grób kolaborant doczekać czas',\n",
              " 'inny droga',\n",
              " 'odrzut natychmiastowy kwaśny mina problem']"
            ]
          },
          "metadata": {},
          "execution_count": 20
        }
      ]
    },
    {
      "cell_type": "code",
      "source": [
        "list(temp[:5])"
      ],
      "metadata": {
        "colab": {
          "base_uri": "https://localhost:8080/"
        },
        "id": "cqXmdyhvKZ8g",
        "outputId": "2fa1c462-cc8d-478b-ded7-49c448d78219"
      },
      "execution_count": 22,
      "outputs": [
        {
          "output_type": "execute_result",
          "data": {
            "text/plain": [
              "['faworyt tytuł cracovia zobaczyć typ sprawdzić',\n",
              " 'brawo daria kibic dobry zły',\n",
              " 'super polski premiera składać kwiat grób kolaborant doczekać czas',\n",
              " 'inny droga',\n",
              " 'odrzut natychmiastowy kwaśny mina problem']"
            ]
          },
          "metadata": {},
          "execution_count": 22
        }
      ]
    },
    {
      "cell_type": "code",
      "source": [
        "data= np.array(temp)"
      ],
      "metadata": {
        "id": "etBzzM6BIG8l"
      },
      "execution_count": 23,
      "outputs": []
    },
    {
      "cell_type": "code",
      "source": [
        "labels = np.array(df['tag_val'])\n",
        "y = []\n",
        "for i in range(len(labels)):\n",
        "    if labels[i] == \"Neutral\":\n",
        "        y.append(0)\n",
        "    if labels[i] == \"Harmful\":\n",
        "        y.append(1)\n",
        "y = np.array(y)\n",
        "labels = tf.keras.utils.to_categorical(y, 2, dtype=\"float32\")\n",
        "del y"
      ],
      "metadata": {
        "id": "KwbzfYdrJHUm"
      },
      "execution_count": 24,
      "outputs": []
    },
    {
      "cell_type": "markdown",
      "source": [
        "## Zamiana danych na tensory\n"
      ],
      "metadata": {
        "id": "cCONUqOV8Tkm"
      }
    },
    {
      "cell_type": "code",
      "source": [
        "max_words = 5000\n",
        "max_len = 200\n",
        "\n",
        "tokenizer = Tokenizer(num_words=max_words)\n",
        "tokenizer.fit_on_texts(data)\n",
        "sequences = tokenizer.texts_to_sequences(data)\n",
        "tweets = pad_sequences(sequences, maxlen=max_len)\n",
        "print(tweets)"
      ],
      "metadata": {
        "colab": {
          "base_uri": "https://localhost:8080/"
        },
        "id": "_CFgeUJ78S16",
        "outputId": "a744b8ab-e7d1-46be-e97d-ac41d855a576"
      },
      "execution_count": 26,
      "outputs": [
        {
          "output_type": "stream",
          "name": "stdout",
          "text": [
            "[[   0    0    0 ...  111 1464  327]\n",
            " [   0    0    0 ...   41    5   56]\n",
            " [   0    0    0 ... 1043  857   18]\n",
            " ...\n",
            " [   0    0    0 ...    8 4327 2379]\n",
            " [   0    0    0 ...  147  350   17]\n",
            " [   0    0    0 ...    0    0  204]]\n"
          ]
        }
      ]
    },
    {
      "cell_type": "code",
      "source": [
        "print(labels)"
      ],
      "metadata": {
        "colab": {
          "base_uri": "https://localhost:8080/"
        },
        "id": "VaNk6AsW_8SD",
        "outputId": "d63e02c4-11f6-4ebe-8894-f32b9cf8c891"
      },
      "execution_count": 27,
      "outputs": [
        {
          "output_type": "stream",
          "name": "stdout",
          "text": [
            "[[1. 0.]\n",
            " [1. 0.]\n",
            " [1. 0.]\n",
            " ...\n",
            " [1. 0.]\n",
            " [0. 1.]\n",
            " [1. 0.]]\n"
          ]
        }
      ]
    },
    {
      "cell_type": "code",
      "source": [
        "# Podział na trening i test\n",
        "X_train, X_test, y_train, y_test = train_test_split(tweets, labels, random_state=0)\n",
        "print(len(X_train),len(X_test),len(y_train),len(y_test))"
      ],
      "metadata": {
        "colab": {
          "base_uri": "https://localhost:8080/"
        },
        "id": "Vu8pMAbiACM2",
        "outputId": "2149945b-d52d-4f1c-809b-388da72ced41"
      },
      "execution_count": 28,
      "outputs": [
        {
          "output_type": "stream",
          "name": "stdout",
          "text": [
            "8270 2757 8270 2757\n"
          ]
        }
      ]
    },
    {
      "cell_type": "code",
      "source": [
        "model = Sequential()\n",
        "model.add(layers.Embedding(max_words, 40, input_length=max_len))\n",
        "model.add(layers.Bidirectional(layers.LSTM(20,dropout=0.6)))\n",
        "model.add(layers.Dense(2,activation='softmax'))\n",
        "model.compile(optimizer='rmsprop',loss='categorical_crossentropy', metrics=['accuracy'])\n",
        "\n",
        "checkpoint = ModelCheckpoint(\"/content/drive/MyDrive/POLEVAL_6.1/biLSTM_model.hdf5\", \n",
        "                              monitor='val_accuracy', \n",
        "                              verbose=1,\n",
        "                              save_best_only=True, \n",
        "                              mode='auto', \n",
        "                              period=1,\n",
        "                              save_weights_only=False)\n",
        "history = model.fit(X_train, \n",
        "                     y_train, \n",
        "                     epochs=30, \n",
        "                     validation_data=(X_test, y_test),\n",
        "                     callbacks=[checkpoint])"
      ],
      "metadata": {
        "colab": {
          "base_uri": "https://localhost:8080/"
        },
        "id": "Xmutg4lMDL1i",
        "outputId": "efb78eeb-694f-49c9-ff49-ffbdaa16901b"
      },
      "execution_count": 30,
      "outputs": [
        {
          "output_type": "stream",
          "name": "stdout",
          "text": [
            "WARNING:tensorflow:`period` argument is deprecated. Please use `save_freq` to specify the frequency in number of batches seen.\n",
            "Epoch 1/30\n",
            "259/259 [==============================] - ETA: 0s - loss: 0.3109 - accuracy: 0.9100\n",
            "Epoch 00001: val_accuracy improved from -inf to 0.91077, saving model to /content/drive/MyDrive/POLEVAL_6.1/TEST/biLSTM_model.hdf5\n",
            "259/259 [==============================] - 45s 156ms/step - loss: 0.3109 - accuracy: 0.9100 - val_loss: 0.2916 - val_accuracy: 0.9108\n",
            "Epoch 2/30\n",
            "259/259 [==============================] - ETA: 0s - loss: 0.2768 - accuracy: 0.9108\n",
            "Epoch 00002: val_accuracy did not improve from 0.91077\n",
            "259/259 [==============================] - 39s 151ms/step - loss: 0.2768 - accuracy: 0.9108 - val_loss: 0.2754 - val_accuracy: 0.9108\n",
            "Epoch 3/30\n",
            "259/259 [==============================] - ETA: 0s - loss: 0.2552 - accuracy: 0.9127\n",
            "Epoch 00003: val_accuracy did not improve from 0.91077\n",
            "259/259 [==============================] - 39s 151ms/step - loss: 0.2552 - accuracy: 0.9127 - val_loss: 0.2720 - val_accuracy: 0.9108\n",
            "Epoch 4/30\n",
            "259/259 [==============================] - ETA: 0s - loss: 0.2423 - accuracy: 0.9175\n",
            "Epoch 00004: val_accuracy improved from 0.91077 to 0.91114, saving model to /content/drive/MyDrive/POLEVAL_6.1/TEST/biLSTM_model.hdf5\n",
            "259/259 [==============================] - 40s 154ms/step - loss: 0.2423 - accuracy: 0.9175 - val_loss: 0.2646 - val_accuracy: 0.9111\n",
            "Epoch 5/30\n",
            "259/259 [==============================] - ETA: 0s - loss: 0.2302 - accuracy: 0.9210\n",
            "Epoch 00005: val_accuracy did not improve from 0.91114\n",
            "259/259 [==============================] - 40s 154ms/step - loss: 0.2302 - accuracy: 0.9210 - val_loss: 0.2679 - val_accuracy: 0.9093\n",
            "Epoch 6/30\n",
            "259/259 [==============================] - ETA: 0s - loss: 0.2202 - accuracy: 0.9226\n",
            "Epoch 00006: val_accuracy improved from 0.91114 to 0.91186, saving model to /content/drive/MyDrive/POLEVAL_6.1/TEST/biLSTM_model.hdf5\n",
            "259/259 [==============================] - 40s 153ms/step - loss: 0.2202 - accuracy: 0.9226 - val_loss: 0.2640 - val_accuracy: 0.9119\n",
            "Epoch 7/30\n",
            "259/259 [==============================] - ETA: 0s - loss: 0.2057 - accuracy: 0.9311\n",
            "Epoch 00007: val_accuracy did not improve from 0.91186\n",
            "259/259 [==============================] - 39s 150ms/step - loss: 0.2057 - accuracy: 0.9311 - val_loss: 0.2654 - val_accuracy: 0.9111\n",
            "Epoch 8/30\n",
            "259/259 [==============================] - ETA: 0s - loss: 0.1976 - accuracy: 0.9328\n",
            "Epoch 00008: val_accuracy did not improve from 0.91186\n",
            "259/259 [==============================] - 39s 151ms/step - loss: 0.1976 - accuracy: 0.9328 - val_loss: 0.2722 - val_accuracy: 0.8966\n",
            "Epoch 9/30\n",
            "259/259 [==============================] - ETA: 0s - loss: 0.1878 - accuracy: 0.9353\n",
            "Epoch 00009: val_accuracy did not improve from 0.91186\n",
            "259/259 [==============================] - 38s 147ms/step - loss: 0.1878 - accuracy: 0.9353 - val_loss: 0.2521 - val_accuracy: 0.9104\n",
            "Epoch 10/30\n",
            "259/259 [==============================] - ETA: 0s - loss: 0.1795 - accuracy: 0.9394\n",
            "Epoch 00010: val_accuracy did not improve from 0.91186\n",
            "259/259 [==============================] - 38s 148ms/step - loss: 0.1795 - accuracy: 0.9394 - val_loss: 0.2549 - val_accuracy: 0.9071\n",
            "Epoch 11/30\n",
            "259/259 [==============================] - ETA: 0s - loss: 0.1742 - accuracy: 0.9411\n",
            "Epoch 00011: val_accuracy did not improve from 0.91186\n",
            "259/259 [==============================] - 39s 151ms/step - loss: 0.1742 - accuracy: 0.9411 - val_loss: 0.2632 - val_accuracy: 0.9075\n",
            "Epoch 12/30\n",
            "259/259 [==============================] - ETA: 0s - loss: 0.1651 - accuracy: 0.9438\n",
            "Epoch 00012: val_accuracy did not improve from 0.91186\n",
            "259/259 [==============================] - 39s 151ms/step - loss: 0.1651 - accuracy: 0.9438 - val_loss: 0.2702 - val_accuracy: 0.9010\n",
            "Epoch 13/30\n",
            "259/259 [==============================] - ETA: 0s - loss: 0.1635 - accuracy: 0.9433\n",
            "Epoch 00013: val_accuracy did not improve from 0.91186\n",
            "259/259 [==============================] - 39s 152ms/step - loss: 0.1635 - accuracy: 0.9433 - val_loss: 0.2654 - val_accuracy: 0.9006\n",
            "Epoch 14/30\n",
            "259/259 [==============================] - ETA: 0s - loss: 0.1616 - accuracy: 0.9457\n",
            "Epoch 00014: val_accuracy did not improve from 0.91186\n",
            "259/259 [==============================] - 39s 150ms/step - loss: 0.1616 - accuracy: 0.9457 - val_loss: 0.2610 - val_accuracy: 0.9028\n",
            "Epoch 15/30\n",
            "259/259 [==============================] - ETA: 0s - loss: 0.1552 - accuracy: 0.9484\n",
            "Epoch 00015: val_accuracy did not improve from 0.91186\n",
            "259/259 [==============================] - 40s 153ms/step - loss: 0.1552 - accuracy: 0.9484 - val_loss: 0.2678 - val_accuracy: 0.9042\n",
            "Epoch 16/30\n",
            "259/259 [==============================] - ETA: 0s - loss: 0.1526 - accuracy: 0.9497\n",
            "Epoch 00016: val_accuracy did not improve from 0.91186\n",
            "259/259 [==============================] - 39s 149ms/step - loss: 0.1526 - accuracy: 0.9497 - val_loss: 0.2682 - val_accuracy: 0.9046\n",
            "Epoch 17/30\n",
            "259/259 [==============================] - ETA: 0s - loss: 0.1504 - accuracy: 0.9493\n",
            "Epoch 00017: val_accuracy did not improve from 0.91186\n",
            "259/259 [==============================] - 40s 153ms/step - loss: 0.1504 - accuracy: 0.9493 - val_loss: 0.2718 - val_accuracy: 0.9013\n",
            "Epoch 18/30\n",
            "259/259 [==============================] - ETA: 0s - loss: 0.1444 - accuracy: 0.9521\n",
            "Epoch 00018: val_accuracy did not improve from 0.91186\n",
            "259/259 [==============================] - 39s 152ms/step - loss: 0.1444 - accuracy: 0.9521 - val_loss: 0.2693 - val_accuracy: 0.9013\n",
            "Epoch 19/30\n",
            "259/259 [==============================] - ETA: 0s - loss: 0.1458 - accuracy: 0.9507\n",
            "Epoch 00019: val_accuracy did not improve from 0.91186\n",
            "259/259 [==============================] - 39s 152ms/step - loss: 0.1458 - accuracy: 0.9507 - val_loss: 0.2842 - val_accuracy: 0.8926\n",
            "Epoch 20/30\n",
            "259/259 [==============================] - ETA: 0s - loss: 0.1412 - accuracy: 0.9524\n",
            "Epoch 00020: val_accuracy did not improve from 0.91186\n",
            "259/259 [==============================] - 39s 150ms/step - loss: 0.1412 - accuracy: 0.9524 - val_loss: 0.2901 - val_accuracy: 0.8955\n",
            "Epoch 21/30\n",
            "259/259 [==============================] - ETA: 0s - loss: 0.1406 - accuracy: 0.9536\n",
            "Epoch 00021: val_accuracy did not improve from 0.91186\n",
            "259/259 [==============================] - 39s 150ms/step - loss: 0.1406 - accuracy: 0.9536 - val_loss: 0.2770 - val_accuracy: 0.8992\n",
            "Epoch 22/30\n",
            "259/259 [==============================] - ETA: 0s - loss: 0.1395 - accuracy: 0.9550\n",
            "Epoch 00022: val_accuracy did not improve from 0.91186\n",
            "259/259 [==============================] - 39s 149ms/step - loss: 0.1395 - accuracy: 0.9550 - val_loss: 0.2813 - val_accuracy: 0.9003\n",
            "Epoch 23/30\n",
            "259/259 [==============================] - ETA: 0s - loss: 0.1371 - accuracy: 0.9550\n",
            "Epoch 00023: val_accuracy did not improve from 0.91186\n",
            "259/259 [==============================] - 39s 150ms/step - loss: 0.1371 - accuracy: 0.9550 - val_loss: 0.2864 - val_accuracy: 0.9042\n",
            "Epoch 24/30\n",
            "259/259 [==============================] - ETA: 0s - loss: 0.1384 - accuracy: 0.9539\n",
            "Epoch 00024: val_accuracy did not improve from 0.91186\n",
            "259/259 [==============================] - 39s 150ms/step - loss: 0.1384 - accuracy: 0.9539 - val_loss: 0.2926 - val_accuracy: 0.8934\n",
            "Epoch 25/30\n",
            "259/259 [==============================] - ETA: 0s - loss: 0.1393 - accuracy: 0.9550\n",
            "Epoch 00025: val_accuracy did not improve from 0.91186\n",
            "259/259 [==============================] - 39s 150ms/step - loss: 0.1393 - accuracy: 0.9550 - val_loss: 0.2843 - val_accuracy: 0.8963\n",
            "Epoch 26/30\n",
            "259/259 [==============================] - ETA: 0s - loss: 0.1367 - accuracy: 0.9560\n",
            "Epoch 00026: val_accuracy did not improve from 0.91186\n",
            "259/259 [==============================] - 39s 150ms/step - loss: 0.1367 - accuracy: 0.9560 - val_loss: 0.2844 - val_accuracy: 0.9003\n",
            "Epoch 27/30\n",
            "259/259 [==============================] - ETA: 0s - loss: 0.1363 - accuracy: 0.9550\n",
            "Epoch 00027: val_accuracy did not improve from 0.91186\n",
            "259/259 [==============================] - 39s 151ms/step - loss: 0.1363 - accuracy: 0.9550 - val_loss: 0.2979 - val_accuracy: 0.8984\n",
            "Epoch 28/30\n",
            "259/259 [==============================] - ETA: 0s - loss: 0.1337 - accuracy: 0.9563\n",
            "Epoch 00028: val_accuracy did not improve from 0.91186\n",
            "259/259 [==============================] - 39s 149ms/step - loss: 0.1337 - accuracy: 0.9563 - val_loss: 0.2995 - val_accuracy: 0.8948\n",
            "Epoch 29/30\n",
            "259/259 [==============================] - ETA: 0s - loss: 0.1359 - accuracy: 0.9568\n",
            "Epoch 00029: val_accuracy did not improve from 0.91186\n",
            "259/259 [==============================] - 39s 150ms/step - loss: 0.1359 - accuracy: 0.9568 - val_loss: 0.2876 - val_accuracy: 0.8952\n",
            "Epoch 30/30\n",
            "259/259 [==============================] - ETA: 0s - loss: 0.1330 - accuracy: 0.9578\n",
            "Epoch 00030: val_accuracy did not improve from 0.91186\n",
            "259/259 [==============================] - 39s 152ms/step - loss: 0.1330 - accuracy: 0.9578 - val_loss: 0.3034 - val_accuracy: 0.8915\n"
          ]
        }
      ]
    },
    {
      "cell_type": "code",
      "metadata": {
        "execution": {
          "iopub.execute_input": "2020-10-06T21:58:11.467383Z",
          "iopub.status.busy": "2020-10-06T21:58:11.466210Z",
          "iopub.status.idle": "2020-10-06T21:58:12.123269Z",
          "shell.execute_reply": "2020-10-06T21:58:12.122665Z"
        },
        "papermill": {
          "duration": 14.579894,
          "end_time": "2020-10-06T21:58:12.123401",
          "exception": false,
          "start_time": "2020-10-06T21:57:57.543507",
          "status": "completed"
        },
        "tags": [],
        "id": "uwGMbk8oTrRl"
      },
      "source": [
        "model = keras.models.load_model(\"/content/drive/MyDrive/POLEVAL_6.1/biLSTM_model.hdf5\")"
      ],
      "execution_count": 54,
      "outputs": []
    },
    {
      "cell_type": "code",
      "metadata": {
        "execution": {
          "iopub.execute_input": "2020-10-06T21:58:39.201557Z",
          "iopub.status.busy": "2020-10-06T21:58:39.200429Z",
          "iopub.status.idle": "2020-10-06T21:58:42.153698Z",
          "shell.execute_reply": "2020-10-06T21:58:42.152736Z"
        },
        "papermill": {
          "duration": 16.163436,
          "end_time": "2020-10-06T21:58:42.153869",
          "exception": false,
          "start_time": "2020-10-06T21:58:25.990433",
          "status": "completed"
        },
        "tags": [],
        "id": "cVW_3KOXTrRl",
        "colab": {
          "base_uri": "https://localhost:8080/"
        },
        "outputId": "6f97b823-1690-4080-ce2d-af1cdc3891cf"
      },
      "source": [
        "test_loss, test_acc = model.evaluate(X_test, y_test, verbose=2)\n",
        "print('Model accuracy: ',test_acc)"
      ],
      "execution_count": 56,
      "outputs": [
        {
          "output_type": "stream",
          "name": "stdout",
          "text": [
            "87/87 - 2s - loss: 0.2640 - accuracy: 0.9119 - 2s/epoch - 25ms/step\n",
            "Model accuracy:  0.9118607044219971\n"
          ]
        }
      ]
    },
    {
      "cell_type": "code",
      "metadata": {
        "execution": {
          "iopub.execute_input": "2020-10-06T21:59:08.598704Z",
          "iopub.status.busy": "2020-10-06T21:59:08.597660Z",
          "iopub.status.idle": "2020-10-06T21:59:11.143379Z",
          "shell.execute_reply": "2020-10-06T21:59:11.144225Z"
        },
        "papermill": {
          "duration": 15.873978,
          "end_time": "2020-10-06T21:59:11.144400",
          "exception": false,
          "start_time": "2020-10-06T21:58:55.270422",
          "status": "completed"
        },
        "tags": [],
        "id": "8uyBuqoiTrRl"
      },
      "source": [
        "predictions = model.predict(X_test)"
      ],
      "execution_count": 35,
      "outputs": []
    },
    {
      "cell_type": "code",
      "source": [
        "predictions"
      ],
      "metadata": {
        "colab": {
          "base_uri": "https://localhost:8080/"
        },
        "id": "_fuA4s8sJ6fc",
        "outputId": "4d750c84-810a-4d8a-ce09-7c9431952d7c"
      },
      "execution_count": 58,
      "outputs": [
        {
          "output_type": "execute_result",
          "data": {
            "text/plain": [
              "array([[0.85594356, 0.14405647],\n",
              "       [0.9423893 , 0.05761067],\n",
              "       [0.9805228 , 0.01947721],\n",
              "       ...,\n",
              "       [0.9794805 , 0.02051945],\n",
              "       [0.99507195, 0.00492798],\n",
              "       [0.95149225, 0.04850771]], dtype=float32)"
            ]
          },
          "metadata": {},
          "execution_count": 58
        }
      ]
    },
    {
      "cell_type": "code",
      "source": [
        "from sklearn.metrics import f1_score, precision_score, recall_score, confusion_matrix\n",
        "from sklearn.metrics import classification_report\n",
        "y_pred =  np.around(predictions, decimals=0).argmax(axis=1)\n",
        "\n",
        "print(classification_report(y_test.argmax(axis=1), y_pred))\n"
      ],
      "metadata": {
        "colab": {
          "base_uri": "https://localhost:8080/"
        },
        "id": "Ka3PZ4hnJahI",
        "outputId": "9a3eed5c-2e76-4d5c-c729-5530fe6d62c4"
      },
      "execution_count": 63,
      "outputs": [
        {
          "output_type": "stream",
          "name": "stdout",
          "text": [
            "              precision    recall  f1-score   support\n",
            "\n",
            "           0       0.93      0.98      0.95      2511\n",
            "           1       0.52      0.20      0.28       246\n",
            "\n",
            "    accuracy                           0.91      2757\n",
            "   macro avg       0.72      0.59      0.62      2757\n",
            "weighted avg       0.89      0.91      0.89      2757\n",
            "\n"
          ]
        }
      ]
    },
    {
      "cell_type": "markdown",
      "metadata": {
        "papermill": {
          "duration": 13.54467,
          "end_time": "2020-10-06T21:59:38.859073",
          "exception": false,
          "start_time": "2020-10-06T21:59:25.314403",
          "status": "completed"
        },
        "tags": [],
        "id": "Mox6U_nNTrRl"
      },
      "source": [
        "### Confusion matrix"
      ]
    },
    {
      "cell_type": "code",
      "metadata": {
        "execution": {
          "iopub.execute_input": "2020-10-06T22:00:05.244627Z",
          "iopub.status.busy": "2020-10-06T22:00:05.243340Z",
          "iopub.status.idle": "2020-10-06T22:00:05.261173Z",
          "shell.execute_reply": "2020-10-06T22:00:05.260523Z"
        },
        "papermill": {
          "duration": 13.356845,
          "end_time": "2020-10-06T22:00:05.261290",
          "exception": false,
          "start_time": "2020-10-06T21:59:51.904445",
          "status": "completed"
        },
        "tags": [],
        "id": "av7aqLMzTrRq"
      },
      "source": [
        "# from sklearn.metrics import confusion_matrix\n",
        "matrix = confusion_matrix(y_test.argmax(axis=1), np.around(predictions, decimals=0).argmax(axis=1))"
      ],
      "execution_count": 36,
      "outputs": []
    },
    {
      "cell_type": "code",
      "metadata": {
        "execution": {
          "iopub.execute_input": "2020-10-06T22:00:32.586908Z",
          "iopub.status.busy": "2020-10-06T22:00:32.586210Z",
          "iopub.status.idle": "2020-10-06T22:00:33.285612Z",
          "shell.execute_reply": "2020-10-06T22:00:33.285009Z"
        },
        "papermill": {
          "duration": 14.015558,
          "end_time": "2020-10-06T22:00:33.285736",
          "exception": false,
          "start_time": "2020-10-06T22:00:19.270178",
          "status": "completed"
        },
        "tags": [],
        "id": "xB44BYXrTrRr",
        "colab": {
          "base_uri": "https://localhost:8080/",
          "height": 880
        },
        "outputId": "46258cb5-0e56-4a55-cadf-569c79880cb6"
      },
      "source": [
        "conf_matrix = pd.DataFrame(matrix, index = ['Neutral','Harmful'],columns = ['Neutral','Harmful'])\n",
        "conf_matrix = conf_matrix.astype('float') / conf_matrix.sum(axis=1)[:, np.newaxis]\n",
        "plt.figure(figsize = (15,15))\n",
        "sns.heatmap(conf_matrix, annot=True, annot_kws={\"size\": 15})"
      ],
      "execution_count": 37,
      "outputs": [
        {
          "output_type": "execute_result",
          "data": {
            "text/plain": [
              "<matplotlib.axes._subplots.AxesSubplot at 0x7f72bd75d290>"
            ]
          },
          "metadata": {},
          "execution_count": 37
        },
        {
          "output_type": "display_data",
          "data": {
            "image/png": "[encoded data removed]",
            "text/plain": [
              "<Figure size 1080x1080 with 2 Axes>"
            ]
          },
          "metadata": {
            "needs_background": "light"
          }
        }
      ]
    }
  ]
}