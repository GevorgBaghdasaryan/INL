{
  "nbformat": 4,
  "nbformat_minor": 0,
  "metadata": {
    "colab": {
      "name": "POLEVAL6.1_preprocessing.ipynb",
      "provenance": [],
      "collapsed_sections": []
    },
    "kernelspec": {
      "name": "python3",
      "display_name": "Python 3"
    },
    "language_info": {
      "name": "python"
    }
  },
  "cells": [
    {
      "cell_type": "markdown",
      "source": [
        "# 2019 POLEVAL TASK 6.1\n",
        "**Data preprocessing**\n",
        "\n",
        "\n",
        "---\n",
        "\n",
        "\n",
        "\n",
        "\n",
        "\n",
        "http://2019.poleval.pl/index.php/tasks/task6\n"
      ],
      "metadata": {
        "id": "ldaZ_QgPkBAv"
      }
    },
    {
      "cell_type": "markdown",
      "source": [
        "## To install and download"
      ],
      "metadata": {
        "id": "zlALc8A9NOL7"
      }
    },
    {
      "cell_type": "code",
      "source": [
        "!pip install argparse -q    #Argparse 3.2\n",
        "!pip install xtract -q    #Xtract 0.1 a3\n",
        "!pip install wget -q    #Wget 3.2\n",
        "!pip install -U -q PyDrive\n",
        "!python -m pip install spacy==2.3.2 -q\n",
        "# always restart session after spacy installation\n",
        "!python -m spacy download pl_core_news_md  -q\n",
        "!python -m spacy download pl_core_news_lg -q #"
      ],
      "metadata": {
        "id": "p8wyT_7zdDN9",
        "colab": {
          "base_uri": "https://localhost:8080/"
        },
        "outputId": "ce34ca2a-93e0-43e7-fe92-979710067461"
      },
      "execution_count": 2,
      "outputs": [
        {
          "output_type": "stream",
          "name": "stdout",
          "text": [
            "  Building wheel for wget (setup.py) ... \u001b[?25l\u001b[?25hdone\n",
            "\u001b[K     |████████████████████████████████| 9.9 MB 5.4 MB/s \n",
            "\u001b[K     |████████████████████████████████| 2.1 MB 46.3 MB/s \n",
            "\u001b[K     |████████████████████████████████| 79.9 MB 1.2 MB/s \n",
            "\u001b[?25h  Building wheel for pl-core-news-md (setup.py) ... \u001b[?25l\u001b[?25hdone\n",
            "\u001b[38;5;2m✔ Download and installation successful\u001b[0m\n",
            "You can now load the model via spacy.load('pl_core_news_md')\n",
            "\u001b[K     |████████████████████████████████| 604.2 MB 1.2 MB/s \n",
            "\u001b[?25h  Building wheel for pl-core-news-lg (setup.py) ... \u001b[?25l\u001b[?25hdone\n",
            "\u001b[38;5;2m✔ Download and installation successful\u001b[0m\n",
            "You can now load the model via spacy.load('pl_core_news_lg')\n"
          ]
        }
      ]
    },
    {
      "cell_type": "code",
      "source": [
        "# install and download \n",
        "from IPython.display import clear_output\n",
        "import pandas as pd\n",
        "from pydrive.auth import GoogleAuth\n",
        "from pydrive.drive import GoogleDrive\n",
        "from google.colab import auth\n",
        "from oauth2client.client import GoogleCredentials\n",
        "import re\n",
        "import numpy as np\n",
        "import string\n",
        "import time\n",
        "\n",
        "# wizualizacja\n",
        "import seaborn as sns\n",
        "from wordcloud import WordCloud\n",
        "import matplotlib.pyplot as plt\n",
        "from wordcloud import WordCloud\n",
        "%matplotlib inline\n",
        "# nltk - do preprocessingu\n",
        "import nltk\n",
        "from nltk.stem import WordNetLemmatizer\n",
        "import spacy"
      ],
      "metadata": {
        "id": "mpmRmxD6dnV3"
      },
      "execution_count": 1,
      "outputs": []
    },
    {
      "cell_type": "markdown",
      "source": [
        "## Download train and test data from Google Drive\n"
      ],
      "metadata": {
        "id": "mH36AIjKdsMr"
      }
    },
    {
      "cell_type": "code",
      "source": [
        "#Authenticate\n",
        "from google.colab import drive\n",
        "drive.mount('/content/drive/')"
      ],
      "metadata": {
        "colab": {
          "base_uri": "https://localhost:8080/"
        },
        "id": "QFW7zeHfdsYM",
        "outputId": "13babd15-dde0-4436-905d-05959f9cc67d"
      },
      "execution_count": 2,
      "outputs": [
        {
          "output_type": "stream",
          "name": "stdout",
          "text": [
            "Drive already mounted at /content/drive/; to attempt to forcibly remount, call drive.mount(\"/content/drive/\", force_remount=True).\n"
          ]
        }
      ]
    },
    {
      "cell_type": "code",
      "source": [
        "#train data\n",
        "path1 = '/content/drive/MyDrive/training_set_clean_only_text.txt' \n",
        "path2 = '/content/drive/MyDrive/training_set_clean_only_tags.txt'  \n",
        "df1 = pd.read_csv(path1, delimiter = \"\\t\", header = None)\n",
        "df1.columns = ['tweets_txt']\n",
        "df2 = pd.read_csv(path2, delimiter = \"\\t\", header = None)\n",
        "df2.columns = ['label']\n",
        "train_data = pd.concat([df1.reset_index(drop=True), df2], axis=1,)\n",
        "train_data.head(10)"
      ],
      "metadata": {
        "colab": {
          "base_uri": "https://localhost:8080/",
          "height": 363
        },
        "id": "DXZOuqn-dy-E",
        "outputId": "c6afc415-670b-45a0-846f-12c06987de94"
      },
      "execution_count": 3,
      "outputs": [
        {
          "output_type": "execute_result",
          "data": {
            "text/html": [
              "\n",
              "  <div id=\"df-16c4b7fb-6bf6-49d4-8070-681ee1aba45e\">\n",
              "    <div class=\"colab-df-container\">\n",
              "      <div>\n",
              "<style scoped>\n",
              "    .dataframe tbody tr th:only-of-type {\n",
              "        vertical-align: middle;\n",
              "    }\n",
              "\n",
              "    .dataframe tbody tr th {\n",
              "        vertical-align: top;\n",
              "    }\n",
              "\n",
              "    .dataframe thead th {\n",
              "        text-align: right;\n",
              "    }\n",
              "</style>\n",
              "<table border=\"1\" class=\"dataframe\">\n",
              "  <thead>\n",
              "    <tr style=\"text-align: right;\">\n",
              "      <th></th>\n",
              "      <th>tweets_txt</th>\n",
              "      <th>label</th>\n",
              "    </tr>\n",
              "  </thead>\n",
              "  <tbody>\n",
              "    <tr>\n",
              "      <th>0</th>\n",
              "      <td>Dla mnie faworytem do tytułu będzie Cracovia. ...</td>\n",
              "      <td>0</td>\n",
              "    </tr>\n",
              "    <tr>\n",
              "      <th>1</th>\n",
              "      <td>@anonymized_account @anonymized_account Brawo ...</td>\n",
              "      <td>0</td>\n",
              "    </tr>\n",
              "    <tr>\n",
              "      <th>2</th>\n",
              "      <td>@anonymized_account @anonymized_account Super,...</td>\n",
              "      <td>0</td>\n",
              "    </tr>\n",
              "    <tr>\n",
              "      <th>3</th>\n",
              "      <td>@anonymized_account @anonymized_account Musi. ...</td>\n",
              "      <td>0</td>\n",
              "    </tr>\n",
              "    <tr>\n",
              "      <th>4</th>\n",
              "      <td>Odrzut natychmiastowy, kwaśna mina, mam problem</td>\n",
              "      <td>0</td>\n",
              "    </tr>\n",
              "    <tr>\n",
              "      <th>5</th>\n",
              "      <td>Jaki on był fajny xdd pamiętam, że spóźniłam s...</td>\n",
              "      <td>0</td>\n",
              "    </tr>\n",
              "    <tr>\n",
              "      <th>6</th>\n",
              "      <td>@anonymized_account No nie ma u nas szczęścia 😉</td>\n",
              "      <td>0</td>\n",
              "    </tr>\n",
              "    <tr>\n",
              "      <th>7</th>\n",
              "      <td>@anonymized_account Dawno kogoś tak wrednego n...</td>\n",
              "      <td>0</td>\n",
              "    </tr>\n",
              "    <tr>\n",
              "      <th>8</th>\n",
              "      <td>@anonymized_account @anonymized_account Zaległ...</td>\n",
              "      <td>0</td>\n",
              "    </tr>\n",
              "    <tr>\n",
              "      <th>9</th>\n",
              "      <td>@anonymized_account @anonymized_account @anony...</td>\n",
              "      <td>1</td>\n",
              "    </tr>\n",
              "  </tbody>\n",
              "</table>\n",
              "</div>\n",
              "      <button class=\"colab-df-convert\" onclick=\"convertToInteractive('df-16c4b7fb-6bf6-49d4-8070-681ee1aba45e')\"\n",
              "              title=\"Convert this dataframe to an interactive table.\"\n",
              "              style=\"display:none;\">\n",
              "        \n",
              "  <svg xmlns=\"http://www.w3.org/2000/svg\" height=\"24px\"viewBox=\"0 0 24 24\"\n",
              "       width=\"24px\">\n",
              "    <path d=\"M0 0h24v24H0V0z\" fill=\"none\"/>\n",
              "    <path d=\"M18.56 5.44l.94 2.06.94-2.06 2.06-.94-2.06-.94-.94-2.06-.94 2.06-2.06.94zm-11 1L8.5 8.5l.94-2.06 2.06-.94-2.06-.94L8.5 2.5l-.94 2.06-2.06.94zm10 10l.94 2.06.94-2.06 2.06-.94-2.06-.94-.94-2.06-.94 2.06-2.06.94z\"/><path d=\"M17.41 7.96l-1.37-1.37c-.4-.4-.92-.59-1.43-.59-.52 0-1.04.2-1.43.59L10.3 9.45l-7.72 7.72c-.78.78-.78 2.05 0 2.83L4 21.41c.39.39.9.59 1.41.59.51 0 1.02-.2 1.41-.59l7.78-7.78 2.81-2.81c.8-.78.8-2.07 0-2.86zM5.41 20L4 18.59l7.72-7.72 1.47 1.35L5.41 20z\"/>\n",
              "  </svg>\n",
              "      </button>\n",
              "      \n",
              "  <style>\n",
              "    .colab-df-container {\n",
              "      display:flex;\n",
              "      flex-wrap:wrap;\n",
              "      gap: 12px;\n",
              "    }\n",
              "\n",
              "    .colab-df-convert {\n",
              "      background-color: #E8F0FE;\n",
              "      border: none;\n",
              "      border-radius: 50%;\n",
              "      cursor: pointer;\n",
              "      display: none;\n",
              "      fill: #1967D2;\n",
              "      height: 32px;\n",
              "      padding: 0 0 0 0;\n",
              "      width: 32px;\n",
              "    }\n",
              "\n",
              "    .colab-df-convert:hover {\n",
              "      background-color: #E2EBFA;\n",
              "      box-shadow: 0px 1px 2px rgba(60, 64, 67, 0.3), 0px 1px 3px 1px rgba(60, 64, 67, 0.15);\n",
              "      fill: #174EA6;\n",
              "    }\n",
              "\n",
              "    [theme=dark] .colab-df-convert {\n",
              "      background-color: #3B4455;\n",
              "      fill: #D2E3FC;\n",
              "    }\n",
              "\n",
              "    [theme=dark] .colab-df-convert:hover {\n",
              "      background-color: #434B5C;\n",
              "      box-shadow: 0px 1px 3px 1px rgba(0, 0, 0, 0.15);\n",
              "      filter: drop-shadow(0px 1px 2px rgba(0, 0, 0, 0.3));\n",
              "      fill: #FFFFFF;\n",
              "    }\n",
              "  </style>\n",
              "\n",
              "      <script>\n",
              "        const buttonEl =\n",
              "          document.querySelector('#df-16c4b7fb-6bf6-49d4-8070-681ee1aba45e button.colab-df-convert');\n",
              "        buttonEl.style.display =\n",
              "          google.colab.kernel.accessAllowed ? 'block' : 'none';\n",
              "\n",
              "        async function convertToInteractive(key) {\n",
              "          const element = document.querySelector('#df-16c4b7fb-6bf6-49d4-8070-681ee1aba45e');\n",
              "          const dataTable =\n",
              "            await google.colab.kernel.invokeFunction('convertToInteractive',\n",
              "                                                     [key], {});\n",
              "          if (!dataTable) return;\n",
              "\n",
              "          const docLinkHtml = 'Like what you see? Visit the ' +\n",
              "            '<a target=\"_blank\" href=https://colab.research.google.com/notebooks/data_table.ipynb>data table notebook</a>'\n",
              "            + ' to learn more about interactive tables.';\n",
              "          element.innerHTML = '';\n",
              "          dataTable['output_type'] = 'display_data';\n",
              "          await google.colab.output.renderOutput(dataTable, element);\n",
              "          const docLink = document.createElement('div');\n",
              "          docLink.innerHTML = docLinkHtml;\n",
              "          element.appendChild(docLink);\n",
              "        }\n",
              "      </script>\n",
              "    </div>\n",
              "  </div>\n",
              "  "
            ],
            "text/plain": [
              "                                          tweets_txt  label\n",
              "0  Dla mnie faworytem do tytułu będzie Cracovia. ...      0\n",
              "1  @anonymized_account @anonymized_account Brawo ...      0\n",
              "2  @anonymized_account @anonymized_account Super,...      0\n",
              "3  @anonymized_account @anonymized_account Musi. ...      0\n",
              "4    Odrzut natychmiastowy, kwaśna mina, mam problem      0\n",
              "5  Jaki on był fajny xdd pamiętam, że spóźniłam s...      0\n",
              "6    @anonymized_account No nie ma u nas szczęścia 😉      0\n",
              "7  @anonymized_account Dawno kogoś tak wrednego n...      0\n",
              "8  @anonymized_account @anonymized_account Zaległ...      0\n",
              "9  @anonymized_account @anonymized_account @anony...      1"
            ]
          },
          "metadata": {},
          "execution_count": 3
        }
      ]
    },
    {
      "cell_type": "code",
      "source": [
        "#test data\n",
        "path1 = '/content/drive/MyDrive/test_set_clean_only_text.txt' \n",
        "path2 = '/content/drive/MyDrive/test_set_clean_only_tags.txt'  \n",
        "df1 = pd.read_csv(path1, delimiter = \"\\t\", header = None)\n",
        "df1.columns = ['tweets_txt']\n",
        "df2 = pd.read_csv(path2, delimiter = \"\\t\", header = None)\n",
        "df2.columns = ['label']\n",
        "test_data = pd.concat([df1.reset_index(drop=True), df2], axis=1,)\n",
        "test_data.head(10)"
      ],
      "metadata": {
        "id": "A_mLXnqEiP5E",
        "colab": {
          "base_uri": "https://localhost:8080/",
          "height": 363
        },
        "outputId": "062e9acf-62e1-47cb-a630-69ff6b623ed7"
      },
      "execution_count": 4,
      "outputs": [
        {
          "output_type": "execute_result",
          "data": {
            "text/html": [
              "\n",
              "  <div id=\"df-1d9ba3f5-d02d-465f-b7f0-fb1bca2a3219\">\n",
              "    <div class=\"colab-df-container\">\n",
              "      <div>\n",
              "<style scoped>\n",
              "    .dataframe tbody tr th:only-of-type {\n",
              "        vertical-align: middle;\n",
              "    }\n",
              "\n",
              "    .dataframe tbody tr th {\n",
              "        vertical-align: top;\n",
              "    }\n",
              "\n",
              "    .dataframe thead th {\n",
              "        text-align: right;\n",
              "    }\n",
              "</style>\n",
              "<table border=\"1\" class=\"dataframe\">\n",
              "  <thead>\n",
              "    <tr style=\"text-align: right;\">\n",
              "      <th></th>\n",
              "      <th>tweets_txt</th>\n",
              "      <th>label</th>\n",
              "    </tr>\n",
              "  </thead>\n",
              "  <tbody>\n",
              "    <tr>\n",
              "      <th>0</th>\n",
              "      <td>@anonymized_account Spoko, jak im Duda z Moraw...</td>\n",
              "      <td>0</td>\n",
              "    </tr>\n",
              "    <tr>\n",
              "      <th>1</th>\n",
              "      <td>@anonymized_account @anonymized_account Ale on...</td>\n",
              "      <td>0</td>\n",
              "    </tr>\n",
              "    <tr>\n",
              "      <th>2</th>\n",
              "      <td>@anonymized_account No czy Prezes nie miał rac...</td>\n",
              "      <td>0</td>\n",
              "    </tr>\n",
              "    <tr>\n",
              "      <th>3</th>\n",
              "      <td>@anonymized_account @anonymized_account Przeci...</td>\n",
              "      <td>0</td>\n",
              "    </tr>\n",
              "    <tr>\n",
              "      <th>4</th>\n",
              "      <td>@anonymized_account @anonymized_account Owszem...</td>\n",
              "      <td>0</td>\n",
              "    </tr>\n",
              "    <tr>\n",
              "      <th>5</th>\n",
              "      <td>@anonymized_account @anonymized_account skąd w...</td>\n",
              "      <td>0</td>\n",
              "    </tr>\n",
              "    <tr>\n",
              "      <th>6</th>\n",
              "      <td>Z tego, co widzę, to kibice Widzewa mają szczę...</td>\n",
              "      <td>0</td>\n",
              "    </tr>\n",
              "    <tr>\n",
              "      <th>7</th>\n",
              "      <td>@anonymized_account @anonymized_account @anony...</td>\n",
              "      <td>0</td>\n",
              "    </tr>\n",
              "    <tr>\n",
              "      <th>8</th>\n",
              "      <td>Przypomnijcie mi ze muszę jeszcze suszarkę spa...</td>\n",
              "      <td>0</td>\n",
              "    </tr>\n",
              "    <tr>\n",
              "      <th>9</th>\n",
              "      <td>Czy Adam już nie żyje? Jeśli tak, to jak rozwi...</td>\n",
              "      <td>0</td>\n",
              "    </tr>\n",
              "  </tbody>\n",
              "</table>\n",
              "</div>\n",
              "      <button class=\"colab-df-convert\" onclick=\"convertToInteractive('df-1d9ba3f5-d02d-465f-b7f0-fb1bca2a3219')\"\n",
              "              title=\"Convert this dataframe to an interactive table.\"\n",
              "              style=\"display:none;\">\n",
              "        \n",
              "  <svg xmlns=\"http://www.w3.org/2000/svg\" height=\"24px\"viewBox=\"0 0 24 24\"\n",
              "       width=\"24px\">\n",
              "    <path d=\"M0 0h24v24H0V0z\" fill=\"none\"/>\n",
              "    <path d=\"M18.56 5.44l.94 2.06.94-2.06 2.06-.94-2.06-.94-.94-2.06-.94 2.06-2.06.94zm-11 1L8.5 8.5l.94-2.06 2.06-.94-2.06-.94L8.5 2.5l-.94 2.06-2.06.94zm10 10l.94 2.06.94-2.06 2.06-.94-2.06-.94-.94-2.06-.94 2.06-2.06.94z\"/><path d=\"M17.41 7.96l-1.37-1.37c-.4-.4-.92-.59-1.43-.59-.52 0-1.04.2-1.43.59L10.3 9.45l-7.72 7.72c-.78.78-.78 2.05 0 2.83L4 21.41c.39.39.9.59 1.41.59.51 0 1.02-.2 1.41-.59l7.78-7.78 2.81-2.81c.8-.78.8-2.07 0-2.86zM5.41 20L4 18.59l7.72-7.72 1.47 1.35L5.41 20z\"/>\n",
              "  </svg>\n",
              "      </button>\n",
              "      \n",
              "  <style>\n",
              "    .colab-df-container {\n",
              "      display:flex;\n",
              "      flex-wrap:wrap;\n",
              "      gap: 12px;\n",
              "    }\n",
              "\n",
              "    .colab-df-convert {\n",
              "      background-color: #E8F0FE;\n",
              "      border: none;\n",
              "      border-radius: 50%;\n",
              "      cursor: pointer;\n",
              "      display: none;\n",
              "      fill: #1967D2;\n",
              "      height: 32px;\n",
              "      padding: 0 0 0 0;\n",
              "      width: 32px;\n",
              "    }\n",
              "\n",
              "    .colab-df-convert:hover {\n",
              "      background-color: #E2EBFA;\n",
              "      box-shadow: 0px 1px 2px rgba(60, 64, 67, 0.3), 0px 1px 3px 1px rgba(60, 64, 67, 0.15);\n",
              "      fill: #174EA6;\n",
              "    }\n",
              "\n",
              "    [theme=dark] .colab-df-convert {\n",
              "      background-color: #3B4455;\n",
              "      fill: #D2E3FC;\n",
              "    }\n",
              "\n",
              "    [theme=dark] .colab-df-convert:hover {\n",
              "      background-color: #434B5C;\n",
              "      box-shadow: 0px 1px 3px 1px rgba(0, 0, 0, 0.15);\n",
              "      filter: drop-shadow(0px 1px 2px rgba(0, 0, 0, 0.3));\n",
              "      fill: #FFFFFF;\n",
              "    }\n",
              "  </style>\n",
              "\n",
              "      <script>\n",
              "        const buttonEl =\n",
              "          document.querySelector('#df-1d9ba3f5-d02d-465f-b7f0-fb1bca2a3219 button.colab-df-convert');\n",
              "        buttonEl.style.display =\n",
              "          google.colab.kernel.accessAllowed ? 'block' : 'none';\n",
              "\n",
              "        async function convertToInteractive(key) {\n",
              "          const element = document.querySelector('#df-1d9ba3f5-d02d-465f-b7f0-fb1bca2a3219');\n",
              "          const dataTable =\n",
              "            await google.colab.kernel.invokeFunction('convertToInteractive',\n",
              "                                                     [key], {});\n",
              "          if (!dataTable) return;\n",
              "\n",
              "          const docLinkHtml = 'Like what you see? Visit the ' +\n",
              "            '<a target=\"_blank\" href=https://colab.research.google.com/notebooks/data_table.ipynb>data table notebook</a>'\n",
              "            + ' to learn more about interactive tables.';\n",
              "          element.innerHTML = '';\n",
              "          dataTable['output_type'] = 'display_data';\n",
              "          await google.colab.output.renderOutput(dataTable, element);\n",
              "          const docLink = document.createElement('div');\n",
              "          docLink.innerHTML = docLinkHtml;\n",
              "          element.appendChild(docLink);\n",
              "        }\n",
              "      </script>\n",
              "    </div>\n",
              "  </div>\n",
              "  "
            ],
            "text/plain": [
              "                                          tweets_txt  label\n",
              "0  @anonymized_account Spoko, jak im Duda z Moraw...      0\n",
              "1  @anonymized_account @anonymized_account Ale on...      0\n",
              "2  @anonymized_account No czy Prezes nie miał rac...      0\n",
              "3  @anonymized_account @anonymized_account Przeci...      0\n",
              "4  @anonymized_account @anonymized_account Owszem...      0\n",
              "5  @anonymized_account @anonymized_account skąd w...      0\n",
              "6  Z tego, co widzę, to kibice Widzewa mają szczę...      0\n",
              "7  @anonymized_account @anonymized_account @anony...      0\n",
              "8  Przypomnijcie mi ze muszę jeszcze suszarkę spa...      0\n",
              "9  Czy Adam już nie żyje? Jeśli tak, to jak rozwi...      0"
            ]
          },
          "metadata": {},
          "execution_count": 4
        }
      ]
    },
    {
      "cell_type": "code",
      "source": [
        "#map tags values \n",
        "di = {0:'Neutral', 1:'Harmful'}\n",
        "test_data[\"label\"] = test_data[\"label\"].map(di)\n",
        "train_data[\"label\"] = train_data[\"label\"].map(di)"
      ],
      "metadata": {
        "id": "FJWLF7VncydO"
      },
      "execution_count": 5,
      "outputs": []
    },
    {
      "cell_type": "markdown",
      "source": [
        "## Data exploration"
      ],
      "metadata": {
        "id": "3GR-jz0Ipvja"
      }
    },
    {
      "cell_type": "code",
      "source": [
        "# join train and test data together\n",
        "df = train_data.append(test_data, ignore_index=True)"
      ],
      "metadata": {
        "id": "Lz3I2-NurnnR"
      },
      "execution_count": 22,
      "outputs": []
    },
    {
      "cell_type": "code",
      "source": [
        "n = len(df)\n",
        "print(f'number of train_comments: {len(train_data)} ({round(len(train_data)/n *100, 2)}%).')\n",
        "print(f'number of test_comments: {len(test_data)} ({round(len(test_data)/n *100, 2)}%).')\n",
        "print(f'total: {n}')"
      ],
      "metadata": {
        "colab": {
          "base_uri": "https://localhost:8080/"
        },
        "id": "_qZ1cLflq1Qa",
        "outputId": "d13a178c-0940-401b-a192-a4de3c19c01c"
      },
      "execution_count": 23,
      "outputs": [
        {
          "output_type": "stream",
          "name": "stdout",
          "text": [
            "number of train_comments: 10041 (90.94%).\n",
            "number of test_comments: 1000 (9.06%).\n",
            "total: 11041\n"
          ]
        }
      ]
    },
    {
      "cell_type": "code",
      "source": [
        "# dystrybucja \n",
        "df.groupby('label').nunique()"
      ],
      "metadata": {
        "id": "6gTOssS6puwd",
        "colab": {
          "base_uri": "https://localhost:8080/",
          "height": 143
        },
        "outputId": "79f91ff9-44d9-4ca8-8ca6-1762e0dba1b2"
      },
      "execution_count": 24,
      "outputs": [
        {
          "output_type": "execute_result",
          "data": {
            "text/html": [
              "\n",
              "  <div id=\"df-f5546c25-5fcb-4c14-b561-ecc28e500c3b\">\n",
              "    <div class=\"colab-df-container\">\n",
              "      <div>\n",
              "<style scoped>\n",
              "    .dataframe tbody tr th:only-of-type {\n",
              "        vertical-align: middle;\n",
              "    }\n",
              "\n",
              "    .dataframe tbody tr th {\n",
              "        vertical-align: top;\n",
              "    }\n",
              "\n",
              "    .dataframe thead th {\n",
              "        text-align: right;\n",
              "    }\n",
              "</style>\n",
              "<table border=\"1\" class=\"dataframe\">\n",
              "  <thead>\n",
              "    <tr style=\"text-align: right;\">\n",
              "      <th></th>\n",
              "      <th>tweets_txt</th>\n",
              "    </tr>\n",
              "    <tr>\n",
              "      <th>label</th>\n",
              "      <th></th>\n",
              "    </tr>\n",
              "  </thead>\n",
              "  <tbody>\n",
              "    <tr>\n",
              "      <th>Harmful</th>\n",
              "      <td>984</td>\n",
              "    </tr>\n",
              "    <tr>\n",
              "      <th>Neutral</th>\n",
              "      <td>10043</td>\n",
              "    </tr>\n",
              "  </tbody>\n",
              "</table>\n",
              "</div>\n",
              "      <button class=\"colab-df-convert\" onclick=\"convertToInteractive('df-f5546c25-5fcb-4c14-b561-ecc28e500c3b')\"\n",
              "              title=\"Convert this dataframe to an interactive table.\"\n",
              "              style=\"display:none;\">\n",
              "        \n",
              "  <svg xmlns=\"http://www.w3.org/2000/svg\" height=\"24px\"viewBox=\"0 0 24 24\"\n",
              "       width=\"24px\">\n",
              "    <path d=\"M0 0h24v24H0V0z\" fill=\"none\"/>\n",
              "    <path d=\"M18.56 5.44l.94 2.06.94-2.06 2.06-.94-2.06-.94-.94-2.06-.94 2.06-2.06.94zm-11 1L8.5 8.5l.94-2.06 2.06-.94-2.06-.94L8.5 2.5l-.94 2.06-2.06.94zm10 10l.94 2.06.94-2.06 2.06-.94-2.06-.94-.94-2.06-.94 2.06-2.06.94z\"/><path d=\"M17.41 7.96l-1.37-1.37c-.4-.4-.92-.59-1.43-.59-.52 0-1.04.2-1.43.59L10.3 9.45l-7.72 7.72c-.78.78-.78 2.05 0 2.83L4 21.41c.39.39.9.59 1.41.59.51 0 1.02-.2 1.41-.59l7.78-7.78 2.81-2.81c.8-.78.8-2.07 0-2.86zM5.41 20L4 18.59l7.72-7.72 1.47 1.35L5.41 20z\"/>\n",
              "  </svg>\n",
              "      </button>\n",
              "      \n",
              "  <style>\n",
              "    .colab-df-container {\n",
              "      display:flex;\n",
              "      flex-wrap:wrap;\n",
              "      gap: 12px;\n",
              "    }\n",
              "\n",
              "    .colab-df-convert {\n",
              "      background-color: #E8F0FE;\n",
              "      border: none;\n",
              "      border-radius: 50%;\n",
              "      cursor: pointer;\n",
              "      display: none;\n",
              "      fill: #1967D2;\n",
              "      height: 32px;\n",
              "      padding: 0 0 0 0;\n",
              "      width: 32px;\n",
              "    }\n",
              "\n",
              "    .colab-df-convert:hover {\n",
              "      background-color: #E2EBFA;\n",
              "      box-shadow: 0px 1px 2px rgba(60, 64, 67, 0.3), 0px 1px 3px 1px rgba(60, 64, 67, 0.15);\n",
              "      fill: #174EA6;\n",
              "    }\n",
              "\n",
              "    [theme=dark] .colab-df-convert {\n",
              "      background-color: #3B4455;\n",
              "      fill: #D2E3FC;\n",
              "    }\n",
              "\n",
              "    [theme=dark] .colab-df-convert:hover {\n",
              "      background-color: #434B5C;\n",
              "      box-shadow: 0px 1px 3px 1px rgba(0, 0, 0, 0.15);\n",
              "      filter: drop-shadow(0px 1px 2px rgba(0, 0, 0, 0.3));\n",
              "      fill: #FFFFFF;\n",
              "    }\n",
              "  </style>\n",
              "\n",
              "      <script>\n",
              "        const buttonEl =\n",
              "          document.querySelector('#df-f5546c25-5fcb-4c14-b561-ecc28e500c3b button.colab-df-convert');\n",
              "        buttonEl.style.display =\n",
              "          google.colab.kernel.accessAllowed ? 'block' : 'none';\n",
              "\n",
              "        async function convertToInteractive(key) {\n",
              "          const element = document.querySelector('#df-f5546c25-5fcb-4c14-b561-ecc28e500c3b');\n",
              "          const dataTable =\n",
              "            await google.colab.kernel.invokeFunction('convertToInteractive',\n",
              "                                                     [key], {});\n",
              "          if (!dataTable) return;\n",
              "\n",
              "          const docLinkHtml = 'Like what you see? Visit the ' +\n",
              "            '<a target=\"_blank\" href=https://colab.research.google.com/notebooks/data_table.ipynb>data table notebook</a>'\n",
              "            + ' to learn more about interactive tables.';\n",
              "          element.innerHTML = '';\n",
              "          dataTable['output_type'] = 'display_data';\n",
              "          await google.colab.output.renderOutput(dataTable, element);\n",
              "          const docLink = document.createElement('div');\n",
              "          docLink.innerHTML = docLinkHtml;\n",
              "          element.appendChild(docLink);\n",
              "        }\n",
              "      </script>\n",
              "    </div>\n",
              "  </div>\n",
              "  "
            ],
            "text/plain": [
              "         tweets_txt\n",
              "label              \n",
              "Harmful         984\n",
              "Neutral       10043"
            ]
          },
          "metadata": {},
          "execution_count": 24
        }
      ]
    },
    {
      "cell_type": "code",
      "metadata": {
        "id": "fu1GQZ61uG7n",
        "colab": {
          "base_uri": "https://localhost:8080/",
          "height": 296
        },
        "outputId": "7881b817-2abc-4cad-eab0-53f95f5d4105"
      },
      "source": [
        "sns.countplot(x='label', data=df)"
      ],
      "execution_count": 25,
      "outputs": [
        {
          "output_type": "execute_result",
          "data": {
            "text/plain": [
              "<matplotlib.axes._subplots.AxesSubplot at 0x7f1552997cd0>"
            ]
          },
          "metadata": {},
          "execution_count": 25
        },
        {
          "output_type": "display_data",
          "data": {
            "image/png": "[encoded data removed]",
            "text/plain": [
              "<Figure size 432x288 with 1 Axes>"
            ]
          },
          "metadata": {
            "needs_background": "light"
          }
        }
      ]
    },
    {
      "cell_type": "code",
      "source": [
        "fig = plt.gcf()\n",
        "fig.set_size_inches(7,7)\n",
        "colors = [\"pink\",\"yellow\"]\n",
        "df_pie=df[\"label\"].value_counts().reset_index()\n",
        "plt.pie(df_pie[\"label\"], labels = df_pie[\"index\"], radius=2, colors=colors, autopct=\"%1.1f%%\")\n",
        "plt.axis('equal')\n",
        "plt.title(\"Dystrybucja sentymentu w tweetach \", fontsize=20)\n",
        "plt.show()\n",
        "df_pie"
      ],
      "metadata": {
        "colab": {
          "base_uri": "https://localhost:8080/",
          "height": 527
        },
        "id": "7Urjfi-d08-d",
        "outputId": "78ee9fa8-9729-49ec-b891-9a935b7314e0"
      },
      "execution_count": 26,
      "outputs": [
        {
          "output_type": "display_data",
          "data": {
            "image/png": "[encoded data removed]",
            "text/plain": [
              "<Figure size 504x504 with 1 Axes>"
            ]
          },
          "metadata": {}
        },
        {
          "output_type": "execute_result",
          "data": {
            "text/html": [
              "\n",
              "  <div id=\"df-0f48ace1-56ea-4884-b235-acb321183c0d\">\n",
              "    <div class=\"colab-df-container\">\n",
              "      <div>\n",
              "<style scoped>\n",
              "    .dataframe tbody tr th:only-of-type {\n",
              "        vertical-align: middle;\n",
              "    }\n",
              "\n",
              "    .dataframe tbody tr th {\n",
              "        vertical-align: top;\n",
              "    }\n",
              "\n",
              "    .dataframe thead th {\n",
              "        text-align: right;\n",
              "    }\n",
              "</style>\n",
              "<table border=\"1\" class=\"dataframe\">\n",
              "  <thead>\n",
              "    <tr style=\"text-align: right;\">\n",
              "      <th></th>\n",
              "      <th>index</th>\n",
              "      <th>label</th>\n",
              "    </tr>\n",
              "  </thead>\n",
              "  <tbody>\n",
              "    <tr>\n",
              "      <th>0</th>\n",
              "      <td>Neutral</td>\n",
              "      <td>10056</td>\n",
              "    </tr>\n",
              "    <tr>\n",
              "      <th>1</th>\n",
              "      <td>Harmful</td>\n",
              "      <td>985</td>\n",
              "    </tr>\n",
              "  </tbody>\n",
              "</table>\n",
              "</div>\n",
              "      <button class=\"colab-df-convert\" onclick=\"convertToInteractive('df-0f48ace1-56ea-4884-b235-acb321183c0d')\"\n",
              "              title=\"Convert this dataframe to an interactive table.\"\n",
              "              style=\"display:none;\">\n",
              "        \n",
              "  <svg xmlns=\"http://www.w3.org/2000/svg\" height=\"24px\"viewBox=\"0 0 24 24\"\n",
              "       width=\"24px\">\n",
              "    <path d=\"M0 0h24v24H0V0z\" fill=\"none\"/>\n",
              "    <path d=\"M18.56 5.44l.94 2.06.94-2.06 2.06-.94-2.06-.94-.94-2.06-.94 2.06-2.06.94zm-11 1L8.5 8.5l.94-2.06 2.06-.94-2.06-.94L8.5 2.5l-.94 2.06-2.06.94zm10 10l.94 2.06.94-2.06 2.06-.94-2.06-.94-.94-2.06-.94 2.06-2.06.94z\"/><path d=\"M17.41 7.96l-1.37-1.37c-.4-.4-.92-.59-1.43-.59-.52 0-1.04.2-1.43.59L10.3 9.45l-7.72 7.72c-.78.78-.78 2.05 0 2.83L4 21.41c.39.39.9.59 1.41.59.51 0 1.02-.2 1.41-.59l7.78-7.78 2.81-2.81c.8-.78.8-2.07 0-2.86zM5.41 20L4 18.59l7.72-7.72 1.47 1.35L5.41 20z\"/>\n",
              "  </svg>\n",
              "      </button>\n",
              "      \n",
              "  <style>\n",
              "    .colab-df-container {\n",
              "      display:flex;\n",
              "      flex-wrap:wrap;\n",
              "      gap: 12px;\n",
              "    }\n",
              "\n",
              "    .colab-df-convert {\n",
              "      background-color: #E8F0FE;\n",
              "      border: none;\n",
              "      border-radius: 50%;\n",
              "      cursor: pointer;\n",
              "      display: none;\n",
              "      fill: #1967D2;\n",
              "      height: 32px;\n",
              "      padding: 0 0 0 0;\n",
              "      width: 32px;\n",
              "    }\n",
              "\n",
              "    .colab-df-convert:hover {\n",
              "      background-color: #E2EBFA;\n",
              "      box-shadow: 0px 1px 2px rgba(60, 64, 67, 0.3), 0px 1px 3px 1px rgba(60, 64, 67, 0.15);\n",
              "      fill: #174EA6;\n",
              "    }\n",
              "\n",
              "    [theme=dark] .colab-df-convert {\n",
              "      background-color: #3B4455;\n",
              "      fill: #D2E3FC;\n",
              "    }\n",
              "\n",
              "    [theme=dark] .colab-df-convert:hover {\n",
              "      background-color: #434B5C;\n",
              "      box-shadow: 0px 1px 3px 1px rgba(0, 0, 0, 0.15);\n",
              "      filter: drop-shadow(0px 1px 2px rgba(0, 0, 0, 0.3));\n",
              "      fill: #FFFFFF;\n",
              "    }\n",
              "  </style>\n",
              "\n",
              "      <script>\n",
              "        const buttonEl =\n",
              "          document.querySelector('#df-0f48ace1-56ea-4884-b235-acb321183c0d button.colab-df-convert');\n",
              "        buttonEl.style.display =\n",
              "          google.colab.kernel.accessAllowed ? 'block' : 'none';\n",
              "\n",
              "        async function convertToInteractive(key) {\n",
              "          const element = document.querySelector('#df-0f48ace1-56ea-4884-b235-acb321183c0d');\n",
              "          const dataTable =\n",
              "            await google.colab.kernel.invokeFunction('convertToInteractive',\n",
              "                                                     [key], {});\n",
              "          if (!dataTable) return;\n",
              "\n",
              "          const docLinkHtml = 'Like what you see? Visit the ' +\n",
              "            '<a target=\"_blank\" href=https://colab.research.google.com/notebooks/data_table.ipynb>data table notebook</a>'\n",
              "            + ' to learn more about interactive tables.';\n",
              "          element.innerHTML = '';\n",
              "          dataTable['output_type'] = 'display_data';\n",
              "          await google.colab.output.renderOutput(dataTable, element);\n",
              "          const docLink = document.createElement('div');\n",
              "          docLink.innerHTML = docLinkHtml;\n",
              "          element.appendChild(docLink);\n",
              "        }\n",
              "      </script>\n",
              "    </div>\n",
              "  </div>\n",
              "  "
            ],
            "text/plain": [
              "     index  label\n",
              "0  Neutral  10056\n",
              "1  Harmful    985"
            ]
          },
          "metadata": {},
          "execution_count": 26
        }
      ]
    },
    {
      "cell_type": "code",
      "source": [
        "from collections import Counter\n",
        "def get_most_common(txt, top=20):\n",
        "  words = (txt).split()\n",
        "  print(f'Found {len(words)} words.')\n",
        "  most_common = Counter(words).most_common(top)\n",
        "  labels = []\n",
        "  values = []\n",
        "  for label, val in most_common:\n",
        "    labels.append(label)\n",
        "    values.append(val)\n",
        "  return values, labels\n",
        "\n",
        "def plot_most_common(txt_comments, top=20, title=''):\n",
        "  values, labels = get_most_common(txt_comments, top)\n",
        "  x = range(len(values))\n",
        "\n",
        "  plt.figure(figsize=(15, 5))\n",
        "  plt.bar(x, values)\n",
        "  plt.xticks(x, labels, rotation=90)\n",
        "  plt.title(title)\n",
        "  plt.show()"
      ],
      "metadata": {
        "id": "11mxDP4vpXxH"
      },
      "execution_count": 27,
      "outputs": []
    },
    {
      "cell_type": "code",
      "source": [
        "tweets = df['tweets_txt'].to_string()\n",
        "plot_most_common(tweets, top=30, title='Top 30 most common words in train set')"
      ],
      "metadata": {
        "colab": {
          "base_uri": "https://localhost:8080/",
          "height": 458
        },
        "id": "s3cvSkCctygy",
        "outputId": "a88ab4bb-fbda-4535-d381-5bb8dc51312c"
      },
      "execution_count": 28,
      "outputs": [
        {
          "output_type": "stream",
          "name": "stdout",
          "text": [
            "Found 71977 words.\n"
          ]
        },
        {
          "output_type": "display_data",
          "data": {
            "image/png": "[encoded data removed]",
            "text/plain": [
              "<Figure size 1080x360 with 1 Axes>"
            ]
          },
          "metadata": {
            "needs_background": "light"
          }
        }
      ]
    },
    {
      "cell_type": "markdown",
      "source": [
        "## Data preprocessing\n"
      ],
      "metadata": {
        "id": "7bQnHM-HuaXI"
      }
    },
    {
      "cell_type": "markdown",
      "source": [
        "### Drop duplicate values and normalize\n"
      ],
      "metadata": {
        "id": "bi5ADAq5u5so"
      }
    },
    {
      "cell_type": "code",
      "source": [
        "# drop duplicate values\n",
        "df['tweets_txt'].drop_duplicates(keep=\"first\", inplace=True)\n",
        "\n",
        "### Normalization make all strings lowercase\n",
        "df['tweets_txt']= df['tweets_txt'].str.lower() \n",
        "df.head()"
      ],
      "metadata": {
        "colab": {
          "base_uri": "https://localhost:8080/",
          "height": 206
        },
        "id": "OFeZmrzNuuqy",
        "outputId": "65ef66c5-1922-488e-d9fe-62d38251dfe9"
      },
      "execution_count": 29,
      "outputs": [
        {
          "output_type": "execute_result",
          "data": {
            "text/html": [
              "\n",
              "  <div id=\"df-62866355-6d92-4775-bfe2-704d1dfcfdc8\">\n",
              "    <div class=\"colab-df-container\">\n",
              "      <div>\n",
              "<style scoped>\n",
              "    .dataframe tbody tr th:only-of-type {\n",
              "        vertical-align: middle;\n",
              "    }\n",
              "\n",
              "    .dataframe tbody tr th {\n",
              "        vertical-align: top;\n",
              "    }\n",
              "\n",
              "    .dataframe thead th {\n",
              "        text-align: right;\n",
              "    }\n",
              "</style>\n",
              "<table border=\"1\" class=\"dataframe\">\n",
              "  <thead>\n",
              "    <tr style=\"text-align: right;\">\n",
              "      <th></th>\n",
              "      <th>tweets_txt</th>\n",
              "      <th>label</th>\n",
              "    </tr>\n",
              "  </thead>\n",
              "  <tbody>\n",
              "    <tr>\n",
              "      <th>0</th>\n",
              "      <td>dla mnie faworytem do tytułu będzie cracovia. ...</td>\n",
              "      <td>Neutral</td>\n",
              "    </tr>\n",
              "    <tr>\n",
              "      <th>1</th>\n",
              "      <td>@anonymized_account @anonymized_account brawo ...</td>\n",
              "      <td>Neutral</td>\n",
              "    </tr>\n",
              "    <tr>\n",
              "      <th>2</th>\n",
              "      <td>@anonymized_account @anonymized_account super,...</td>\n",
              "      <td>Neutral</td>\n",
              "    </tr>\n",
              "    <tr>\n",
              "      <th>3</th>\n",
              "      <td>@anonymized_account @anonymized_account musi. ...</td>\n",
              "      <td>Neutral</td>\n",
              "    </tr>\n",
              "    <tr>\n",
              "      <th>4</th>\n",
              "      <td>odrzut natychmiastowy, kwaśna mina, mam problem</td>\n",
              "      <td>Neutral</td>\n",
              "    </tr>\n",
              "  </tbody>\n",
              "</table>\n",
              "</div>\n",
              "      <button class=\"colab-df-convert\" onclick=\"convertToInteractive('df-62866355-6d92-4775-bfe2-704d1dfcfdc8')\"\n",
              "              title=\"Convert this dataframe to an interactive table.\"\n",
              "              style=\"display:none;\">\n",
              "        \n",
              "  <svg xmlns=\"http://www.w3.org/2000/svg\" height=\"24px\"viewBox=\"0 0 24 24\"\n",
              "       width=\"24px\">\n",
              "    <path d=\"M0 0h24v24H0V0z\" fill=\"none\"/>\n",
              "    <path d=\"M18.56 5.44l.94 2.06.94-2.06 2.06-.94-2.06-.94-.94-2.06-.94 2.06-2.06.94zm-11 1L8.5 8.5l.94-2.06 2.06-.94-2.06-.94L8.5 2.5l-.94 2.06-2.06.94zm10 10l.94 2.06.94-2.06 2.06-.94-2.06-.94-.94-2.06-.94 2.06-2.06.94z\"/><path d=\"M17.41 7.96l-1.37-1.37c-.4-.4-.92-.59-1.43-.59-.52 0-1.04.2-1.43.59L10.3 9.45l-7.72 7.72c-.78.78-.78 2.05 0 2.83L4 21.41c.39.39.9.59 1.41.59.51 0 1.02-.2 1.41-.59l7.78-7.78 2.81-2.81c.8-.78.8-2.07 0-2.86zM5.41 20L4 18.59l7.72-7.72 1.47 1.35L5.41 20z\"/>\n",
              "  </svg>\n",
              "      </button>\n",
              "      \n",
              "  <style>\n",
              "    .colab-df-container {\n",
              "      display:flex;\n",
              "      flex-wrap:wrap;\n",
              "      gap: 12px;\n",
              "    }\n",
              "\n",
              "    .colab-df-convert {\n",
              "      background-color: #E8F0FE;\n",
              "      border: none;\n",
              "      border-radius: 50%;\n",
              "      cursor: pointer;\n",
              "      display: none;\n",
              "      fill: #1967D2;\n",
              "      height: 32px;\n",
              "      padding: 0 0 0 0;\n",
              "      width: 32px;\n",
              "    }\n",
              "\n",
              "    .colab-df-convert:hover {\n",
              "      background-color: #E2EBFA;\n",
              "      box-shadow: 0px 1px 2px rgba(60, 64, 67, 0.3), 0px 1px 3px 1px rgba(60, 64, 67, 0.15);\n",
              "      fill: #174EA6;\n",
              "    }\n",
              "\n",
              "    [theme=dark] .colab-df-convert {\n",
              "      background-color: #3B4455;\n",
              "      fill: #D2E3FC;\n",
              "    }\n",
              "\n",
              "    [theme=dark] .colab-df-convert:hover {\n",
              "      background-color: #434B5C;\n",
              "      box-shadow: 0px 1px 3px 1px rgba(0, 0, 0, 0.15);\n",
              "      filter: drop-shadow(0px 1px 2px rgba(0, 0, 0, 0.3));\n",
              "      fill: #FFFFFF;\n",
              "    }\n",
              "  </style>\n",
              "\n",
              "      <script>\n",
              "        const buttonEl =\n",
              "          document.querySelector('#df-62866355-6d92-4775-bfe2-704d1dfcfdc8 button.colab-df-convert');\n",
              "        buttonEl.style.display =\n",
              "          google.colab.kernel.accessAllowed ? 'block' : 'none';\n",
              "\n",
              "        async function convertToInteractive(key) {\n",
              "          const element = document.querySelector('#df-62866355-6d92-4775-bfe2-704d1dfcfdc8');\n",
              "          const dataTable =\n",
              "            await google.colab.kernel.invokeFunction('convertToInteractive',\n",
              "                                                     [key], {});\n",
              "          if (!dataTable) return;\n",
              "\n",
              "          const docLinkHtml = 'Like what you see? Visit the ' +\n",
              "            '<a target=\"_blank\" href=https://colab.research.google.com/notebooks/data_table.ipynb>data table notebook</a>'\n",
              "            + ' to learn more about interactive tables.';\n",
              "          element.innerHTML = '';\n",
              "          dataTable['output_type'] = 'display_data';\n",
              "          await google.colab.output.renderOutput(dataTable, element);\n",
              "          const docLink = document.createElement('div');\n",
              "          docLink.innerHTML = docLinkHtml;\n",
              "          element.appendChild(docLink);\n",
              "        }\n",
              "      </script>\n",
              "    </div>\n",
              "  </div>\n",
              "  "
            ],
            "text/plain": [
              "                                          tweets_txt    label\n",
              "0  dla mnie faworytem do tytułu będzie cracovia. ...  Neutral\n",
              "1  @anonymized_account @anonymized_account brawo ...  Neutral\n",
              "2  @anonymized_account @anonymized_account super,...  Neutral\n",
              "3  @anonymized_account @anonymized_account musi. ...  Neutral\n",
              "4    odrzut natychmiastowy, kwaśna mina, mam problem  Neutral"
            ]
          },
          "metadata": {},
          "execution_count": 29
        }
      ]
    },
    {
      "cell_type": "markdown",
      "source": [
        "### Stopwords\n"
      ],
      "metadata": {
        "id": "vL-xQL7zwu-1"
      }
    },
    {
      "cell_type": "code",
      "source": [
        "import spacy\n",
        "nlp = spacy.load('pl_core_news_md')"
      ],
      "metadata": {
        "id": "TuYor-pvxeHf"
      },
      "execution_count": 30,
      "outputs": []
    },
    {
      "cell_type": "code",
      "source": [
        "lemma = WordNetLemmatizer()\n",
        "nltk.download('wordnet')"
      ],
      "metadata": {
        "colab": {
          "base_uri": "https://localhost:8080/"
        },
        "id": "H0lhXzDjxgwk",
        "outputId": "e2d51883-7d6c-4433-f87a-ac13d16479ff"
      },
      "execution_count": 31,
      "outputs": [
        {
          "output_type": "stream",
          "name": "stdout",
          "text": [
            "[nltk_data] Downloading package wordnet to /root/nltk_data...\n",
            "[nltk_data]   Package wordnet is already up-to-date!\n"
          ]
        },
        {
          "output_type": "execute_result",
          "data": {
            "text/plain": [
              "True"
            ]
          },
          "metadata": {},
          "execution_count": 31
        }
      ]
    },
    {
      "cell_type": "code",
      "source": [
        "stopwordlist = nlp.Defaults.stop_words\n",
        "print(stopwordlist)"
      ],
      "metadata": {
        "colab": {
          "base_uri": "https://localhost:8080/"
        },
        "id": "2Plx20KZxuBW",
        "outputId": "432d73c6-7781-4383-871c-3f38e2ef0c7f"
      },
      "execution_count": 32,
      "outputs": [
        {
          "output_type": "stream",
          "name": "stdout",
          "text": [
            "{'ich', 'nasza', 'aż', 'natychmiast', 'beda', 'jedno', 'tym', 'sposob', 'by', 'jakkolwiek', 'więc', 'był', 'nigdy', 'cokolwiek', 'tutaj', 'jeden', 'jaki', 'tu', 'mogą', 'ta', 'cali', 'tys', 'sie', 'choć', 'ktorych', 'mam', 'gdyby', 'prawie', 'mu', 'dzisiaj', 'wasza', 'pomimo', 'bardziej', 'twoja', 'oto', 'zapewne', 'mimo', 'taki', 'mozliwe', 'nasi', 'przy', 'powinna', 'nic', 'wszystkich', 'aczkolwiek', 'ktorym', 'ją', 'jestem', 'twoj', 'wszystko', 'godz', 'inna', 'moi', 'ten', 'az', 'nad', 'takze', 'bedzie', 'ok', 'twym', 'je', 'jakaś', 'nasze', 'wszystkie', 'jakie', 'on', 'moje', 'poniewaz', 'nami', 'iv', 'nas', 'daleko', 'obok', 'kiedy', 'jest', 'bez', 'we', 'dwa', 'gdziekolwiek', 'że', 'kazdy', 'ono', 'podczas', 'za', 'gdy', 'kilka', 'swoje', 'czemu', 'aj', 'moze', 'ja', 'totobą', 'ktokolwiek', 'wlasnie', 'mnie', 'ale', 'tylko', 'natomiast', 'sposób', 'gdzies', 'ona', 'cos', 'od', 'tak', 'więcej', 'w', 'soba', 'dużo', 'były', 'coś', 'żadnych', 'gdyz', 'wasz', 'viii', 'zeby', 'mało', 'wielu', 'która', 'jakiż', 'na', 'ma', 'no', 'xiv', 'chce', 'takie', 'dokad', 'juz', 'was', 'xv', 'moim', 'mają', 'niej', 'ktorej', 'i', 'było', 'u', 'moja', 'nie', 'mną', 'toba', 'mi', 'się', 'przedtem', 'bylo', 'roku', 'żaden', 'dla', 'ile', 'gdzieś', 'między', 'dwaj', 'jakichs', 'jako', 'czasami', 'jedynie', 'byla', 'jeszcze', 'duzo', 'będę', 'której', 'byl', 'tobą', 'przez', 'będą', 'teraz', 'raz', 'innych', 'tel', 'miedzy', 'moj', 'xii', 'ach', 'kto', 'wasi', 'dobrze', 'którego', 'właśnie', 'ciebie', 'my', 'rowniez', 'nią', 'vii', 'cały', 'również', 'tę', 'bardzo', 'znow', 'które', 'według', 'dzis', 'mna', 'skąd', 'jezeli', 'jakoś', 'byli', 'przede', 'jakis', 'zadnych', 'dość', 'nim', 'wami', 'zaden', 'wie', 'bowiem', 'xiii', 'po', 'skad', 'pana', 'tam', 'ktory', 'inny', 'one', 'także', 'im', 'powinni', 'sama', 'jednakze', 'zadna', 'aby', 'czyli', 'dwoje', 'twoi', 'jakos', 'pod', 'nimi', 'niech', 'oni', 'wam', 'jeżeli', 'acz', 'żadne', 'byc', 'niemu', 'trzeba', 'moga', 'tego', 'to', 'wszyscy', 'przed', 'sobą', 'jej', 'ktos', 'zadne', 'też', 'naszego', 'wtedy', 'lecz', 'poza', 'ależ', 'caly', 'cie', 'te', 'jeśli', 'kimś', 'już', 'cala', 'ktorego', 'naszych', 'sobie', 'ze', 'alez', 'twój', 'do', 'iż', 'ktora', 'jakby', 'wszystkim', 'możliwe', 'nawet', 'coraz', 'nasz', 'była', 'ty', 'mój', 'jakiś', 'toteż', 'jakas', 'byly', 'ci', 'dosc', 'ktoś', 'sam', 'twoje', 'dlatego', 'może', 'miał', 'których', 'każdy', 'wiele', 'nich', 'żeby', 'wy', 'oraz', 'zawsze', 'ponieważ', 'jego', 'kims', 'takich', 'tych', 'zaś', 'o', 'czy', 'taka', 'iz', 'jemu', 'dokąd', 'którym', 'znowu', 'są', 'niz', 'tej', 'tzw', 'jak', 'niż', 'z', 'ku', 'zostal', 'został', 'często', 'kierunku', 'jakiz', 'razie', 'pan', 'gdzie', 'jednakże', 'powinien', 'wasze', 'kilku', 'temu', 'musi', 'czasem', 'pani', 'go', 'ktore', 'można', 'jakichś', 'ktorzy', 'powinno', 'totez', 'bede', 'ani', 'będzie', 'tobie', 'znów', 'około', 'być', 'przeciez', 'którzy', 'cię', 'albo', 'nam', 'mamy', 'bym', 'jednak', 'niego', 'xi', 'który', 'twoim', 'gdyż', 'ponad', 'ix', 'nia', 'jednym', 'lub', 'bo', 'jesli', 'co', 'dlaczego', 'jedna', 'dwie', 'żadna', 'wśród', 'vi', 'bynajmniej', 'cała', 'inne', 'a', 'owszem', 'mozna', 'przecież', 'dziś'}\n"
          ]
        }
      ]
    },
    {
      "cell_type": "code",
      "source": [
        "def clean_text(text):\n",
        "  text = text.replace(\"@anonymized_account\", ' ')\n",
        "  text = text.replace(\"rt\", ' ')\n",
        "  text = re.sub('https?:\\/\\/[a-zA-Z0-9@:%._\\/+~#=?&;-]*', ' ', text) # URL \n",
        "  text = re.sub('\\$[a-zA-Z0-9]*', ' ', text)\n",
        "  text = re.sub('\\@[a-zA-Z0-9]*', ' ', text)\n",
        "  text = re.sub('[0-9]+', '', text)  # deleting numbers\n",
        "  text = re.sub(r'(.)1+', r'1', text) # repeating chars\n",
        "  text = re.sub(r'[^\\w\\s]','',text) #remove everything except words and space\n",
        "  text = re.sub(r'_','', text)\n",
        "  text = re.sub('\\t', '', text)\n",
        "  text = ' '.join( [w for w in text.split() if len(w)>1] )\n",
        "  text = ' '.join([lemma.lemmatize(x) for x in nltk.wordpunct_tokenize(text) if x not in stopwordlist])\n",
        "  text = [lemma.lemmatize(x,nltk.corpus.reader.wordnet.VERB) for x in nltk.wordpunct_tokenize(text) if x not in stopwordlist]\n",
        "  return text"
      ],
      "metadata": {
        "id": "K151t951xw5x"
      },
      "execution_count": 33,
      "outputs": []
    },
    {
      "cell_type": "code",
      "source": [
        "df[\"clean_tokenized\"] = df[\"tweets_txt\"].apply(clean_text)\n",
        "df['cleaned_text'] = df['clean_tokenized'].apply(lambda x:' '.join(x))\n",
        "\n",
        "df.head()"
      ],
      "metadata": {
        "colab": {
          "base_uri": "https://localhost:8080/",
          "height": 206
        },
        "id": "VYwsIcY_xy1J",
        "outputId": "6d0aa17b-3697-4535-8495-187b666df902"
      },
      "execution_count": 35,
      "outputs": [
        {
          "output_type": "execute_result",
          "data": {
            "text/html": [
              "\n",
              "  <div id=\"df-02db64fb-b4be-4139-bcef-65f3b8092c70\">\n",
              "    <div class=\"colab-df-container\">\n",
              "      <div>\n",
              "<style scoped>\n",
              "    .dataframe tbody tr th:only-of-type {\n",
              "        vertical-align: middle;\n",
              "    }\n",
              "\n",
              "    .dataframe tbody tr th {\n",
              "        vertical-align: top;\n",
              "    }\n",
              "\n",
              "    .dataframe thead th {\n",
              "        text-align: right;\n",
              "    }\n",
              "</style>\n",
              "<table border=\"1\" class=\"dataframe\">\n",
              "  <thead>\n",
              "    <tr style=\"text-align: right;\">\n",
              "      <th></th>\n",
              "      <th>tweets_txt</th>\n",
              "      <th>label</th>\n",
              "      <th>clean_tokenized</th>\n",
              "      <th>cleaned_text</th>\n",
              "    </tr>\n",
              "  </thead>\n",
              "  <tbody>\n",
              "    <tr>\n",
              "      <th>0</th>\n",
              "      <td>dla mnie faworytem do tytułu będzie cracovia. ...</td>\n",
              "      <td>Neutral</td>\n",
              "      <td>[faworytem, tytułu, cracovia, zobaczymy, typ, ...</td>\n",
              "      <td>faworytem tytułu cracovia zobaczymy typ sprawdzi</td>\n",
              "    </tr>\n",
              "    <tr>\n",
              "      <th>1</th>\n",
              "      <td>@anonymized_account @anonymized_account brawo ...</td>\n",
              "      <td>Neutral</td>\n",
              "      <td>[brawo, daria, kibic, dobre, złe]</td>\n",
              "      <td>brawo daria kibic dobre złe</td>\n",
              "    </tr>\n",
              "    <tr>\n",
              "      <th>2</th>\n",
              "      <td>@anonymized_account @anonymized_account super,...</td>\n",
              "      <td>Neutral</td>\n",
              "      <td>[super, polski, premier, składa, kwiaty, groba...</td>\n",
              "      <td>super polski premier składa kwiaty grobach kol...</td>\n",
              "    </tr>\n",
              "    <tr>\n",
              "      <th>3</th>\n",
              "      <td>@anonymized_account @anonymized_account musi. ...</td>\n",
              "      <td>Neutral</td>\n",
              "      <td>[innej, drogi]</td>\n",
              "      <td>innej drogi</td>\n",
              "    </tr>\n",
              "    <tr>\n",
              "      <th>4</th>\n",
              "      <td>odrzut natychmiastowy, kwaśna mina, mam problem</td>\n",
              "      <td>Neutral</td>\n",
              "      <td>[odrzut, natychmiastowy, kwaśna, mina, problem]</td>\n",
              "      <td>odrzut natychmiastowy kwaśna mina problem</td>\n",
              "    </tr>\n",
              "  </tbody>\n",
              "</table>\n",
              "</div>\n",
              "      <button class=\"colab-df-convert\" onclick=\"convertToInteractive('df-02db64fb-b4be-4139-bcef-65f3b8092c70')\"\n",
              "              title=\"Convert this dataframe to an interactive table.\"\n",
              "              style=\"display:none;\">\n",
              "        \n",
              "  <svg xmlns=\"http://www.w3.org/2000/svg\" height=\"24px\"viewBox=\"0 0 24 24\"\n",
              "       width=\"24px\">\n",
              "    <path d=\"M0 0h24v24H0V0z\" fill=\"none\"/>\n",
              "    <path d=\"M18.56 5.44l.94 2.06.94-2.06 2.06-.94-2.06-.94-.94-2.06-.94 2.06-2.06.94zm-11 1L8.5 8.5l.94-2.06 2.06-.94-2.06-.94L8.5 2.5l-.94 2.06-2.06.94zm10 10l.94 2.06.94-2.06 2.06-.94-2.06-.94-.94-2.06-.94 2.06-2.06.94z\"/><path d=\"M17.41 7.96l-1.37-1.37c-.4-.4-.92-.59-1.43-.59-.52 0-1.04.2-1.43.59L10.3 9.45l-7.72 7.72c-.78.78-.78 2.05 0 2.83L4 21.41c.39.39.9.59 1.41.59.51 0 1.02-.2 1.41-.59l7.78-7.78 2.81-2.81c.8-.78.8-2.07 0-2.86zM5.41 20L4 18.59l7.72-7.72 1.47 1.35L5.41 20z\"/>\n",
              "  </svg>\n",
              "      </button>\n",
              "      \n",
              "  <style>\n",
              "    .colab-df-container {\n",
              "      display:flex;\n",
              "      flex-wrap:wrap;\n",
              "      gap: 12px;\n",
              "    }\n",
              "\n",
              "    .colab-df-convert {\n",
              "      background-color: #E8F0FE;\n",
              "      border: none;\n",
              "      border-radius: 50%;\n",
              "      cursor: pointer;\n",
              "      display: none;\n",
              "      fill: #1967D2;\n",
              "      height: 32px;\n",
              "      padding: 0 0 0 0;\n",
              "      width: 32px;\n",
              "    }\n",
              "\n",
              "    .colab-df-convert:hover {\n",
              "      background-color: #E2EBFA;\n",
              "      box-shadow: 0px 1px 2px rgba(60, 64, 67, 0.3), 0px 1px 3px 1px rgba(60, 64, 67, 0.15);\n",
              "      fill: #174EA6;\n",
              "    }\n",
              "\n",
              "    [theme=dark] .colab-df-convert {\n",
              "      background-color: #3B4455;\n",
              "      fill: #D2E3FC;\n",
              "    }\n",
              "\n",
              "    [theme=dark] .colab-df-convert:hover {\n",
              "      background-color: #434B5C;\n",
              "      box-shadow: 0px 1px 3px 1px rgba(0, 0, 0, 0.15);\n",
              "      filter: drop-shadow(0px 1px 2px rgba(0, 0, 0, 0.3));\n",
              "      fill: #FFFFFF;\n",
              "    }\n",
              "  </style>\n",
              "\n",
              "      <script>\n",
              "        const buttonEl =\n",
              "          document.querySelector('#df-02db64fb-b4be-4139-bcef-65f3b8092c70 button.colab-df-convert');\n",
              "        buttonEl.style.display =\n",
              "          google.colab.kernel.accessAllowed ? 'block' : 'none';\n",
              "\n",
              "        async function convertToInteractive(key) {\n",
              "          const element = document.querySelector('#df-02db64fb-b4be-4139-bcef-65f3b8092c70');\n",
              "          const dataTable =\n",
              "            await google.colab.kernel.invokeFunction('convertToInteractive',\n",
              "                                                     [key], {});\n",
              "          if (!dataTable) return;\n",
              "\n",
              "          const docLinkHtml = 'Like what you see? Visit the ' +\n",
              "            '<a target=\"_blank\" href=https://colab.research.google.com/notebooks/data_table.ipynb>data table notebook</a>'\n",
              "            + ' to learn more about interactive tables.';\n",
              "          element.innerHTML = '';\n",
              "          dataTable['output_type'] = 'display_data';\n",
              "          await google.colab.output.renderOutput(dataTable, element);\n",
              "          const docLink = document.createElement('div');\n",
              "          docLink.innerHTML = docLinkHtml;\n",
              "          element.appendChild(docLink);\n",
              "        }\n",
              "      </script>\n",
              "    </div>\n",
              "  </div>\n",
              "  "
            ],
            "text/plain": [
              "                                          tweets_txt  ...                                       cleaned_text\n",
              "0  dla mnie faworytem do tytułu będzie cracovia. ...  ...   faworytem tytułu cracovia zobaczymy typ sprawdzi\n",
              "1  @anonymized_account @anonymized_account brawo ...  ...                        brawo daria kibic dobre złe\n",
              "2  @anonymized_account @anonymized_account super,...  ...  super polski premier składa kwiaty grobach kol...\n",
              "3  @anonymized_account @anonymized_account musi. ...  ...                                        innej drogi\n",
              "4    odrzut natychmiastowy, kwaśna mina, mam problem  ...          odrzut natychmiastowy kwaśna mina problem\n",
              "\n",
              "[5 rows x 4 columns]"
            ]
          },
          "metadata": {},
          "execution_count": 35
        }
      ]
    },
    {
      "cell_type": "markdown",
      "source": [
        "### Lematization"
      ],
      "metadata": {
        "id": "jdFXBH7C9oih"
      }
    },
    {
      "cell_type": "code",
      "source": [
        "# Jak załadować model spaCy:\n",
        "nlp = spacy.load('pl_core_news_lg') # zwyczajowo nazywamy zmienną do modelu nlp\n",
        "tweets = df[\"cleaned_text\"].to_string()\n"
      ],
      "metadata": {
        "id": "jBjbkl3w9qPy"
      },
      "execution_count": 36,
      "outputs": []
    },
    {
      "cell_type": "code",
      "source": [
        "df[\"lemmatized\"] = df['cleaned_text'].apply(lambda x: \" \".join([y.lemma_ for y in nlp(x)]))"
      ],
      "metadata": {
        "id": "q2AE-6c0GJy_"
      },
      "execution_count": 37,
      "outputs": []
    },
    {
      "cell_type": "code",
      "source": [
        "df.head()"
      ],
      "metadata": {
        "colab": {
          "base_uri": "https://localhost:8080/",
          "height": 206
        },
        "id": "BxrHteKvGibm",
        "outputId": "ba63562c-35b3-419d-e5d2-a5dd8512d2d2"
      },
      "execution_count": 38,
      "outputs": [
        {
          "output_type": "execute_result",
          "data": {
            "text/html": [
              "\n",
              "  <div id=\"df-7a3dcb8e-15c4-46d6-8b0f-752000c72e26\">\n",
              "    <div class=\"colab-df-container\">\n",
              "      <div>\n",
              "<style scoped>\n",
              "    .dataframe tbody tr th:only-of-type {\n",
              "        vertical-align: middle;\n",
              "    }\n",
              "\n",
              "    .dataframe tbody tr th {\n",
              "        vertical-align: top;\n",
              "    }\n",
              "\n",
              "    .dataframe thead th {\n",
              "        text-align: right;\n",
              "    }\n",
              "</style>\n",
              "<table border=\"1\" class=\"dataframe\">\n",
              "  <thead>\n",
              "    <tr style=\"text-align: right;\">\n",
              "      <th></th>\n",
              "      <th>tweets_txt</th>\n",
              "      <th>label</th>\n",
              "      <th>clean_tokenized</th>\n",
              "      <th>cleaned_text</th>\n",
              "      <th>lemmatized</th>\n",
              "    </tr>\n",
              "  </thead>\n",
              "  <tbody>\n",
              "    <tr>\n",
              "      <th>0</th>\n",
              "      <td>dla mnie faworytem do tytułu będzie cracovia. ...</td>\n",
              "      <td>Neutral</td>\n",
              "      <td>[faworytem, tytułu, cracovia, zobaczymy, typ, ...</td>\n",
              "      <td>faworytem tytułu cracovia zobaczymy typ sprawdzi</td>\n",
              "      <td>faworyt tytuł cracovia zobaczyć typ sprawdzić</td>\n",
              "    </tr>\n",
              "    <tr>\n",
              "      <th>1</th>\n",
              "      <td>@anonymized_account @anonymized_account brawo ...</td>\n",
              "      <td>Neutral</td>\n",
              "      <td>[brawo, daria, kibic, dobre, złe]</td>\n",
              "      <td>brawo daria kibic dobre złe</td>\n",
              "      <td>brawo daria kibic dobry zły</td>\n",
              "    </tr>\n",
              "    <tr>\n",
              "      <th>2</th>\n",
              "      <td>@anonymized_account @anonymized_account super,...</td>\n",
              "      <td>Neutral</td>\n",
              "      <td>[super, polski, premier, składa, kwiaty, groba...</td>\n",
              "      <td>super polski premier składa kwiaty grobach kol...</td>\n",
              "      <td>super polski premiera składać kwiat grób kolab...</td>\n",
              "    </tr>\n",
              "    <tr>\n",
              "      <th>3</th>\n",
              "      <td>@anonymized_account @anonymized_account musi. ...</td>\n",
              "      <td>Neutral</td>\n",
              "      <td>[innej, drogi]</td>\n",
              "      <td>innej drogi</td>\n",
              "      <td>inny droga</td>\n",
              "    </tr>\n",
              "    <tr>\n",
              "      <th>4</th>\n",
              "      <td>odrzut natychmiastowy, kwaśna mina, mam problem</td>\n",
              "      <td>Neutral</td>\n",
              "      <td>[odrzut, natychmiastowy, kwaśna, mina, problem]</td>\n",
              "      <td>odrzut natychmiastowy kwaśna mina problem</td>\n",
              "      <td>odrzut natychmiastowy kwaśny mina problem</td>\n",
              "    </tr>\n",
              "  </tbody>\n",
              "</table>\n",
              "</div>\n",
              "      <button class=\"colab-df-convert\" onclick=\"convertToInteractive('df-7a3dcb8e-15c4-46d6-8b0f-752000c72e26')\"\n",
              "              title=\"Convert this dataframe to an interactive table.\"\n",
              "              style=\"display:none;\">\n",
              "        \n",
              "  <svg xmlns=\"http://www.w3.org/2000/svg\" height=\"24px\"viewBox=\"0 0 24 24\"\n",
              "       width=\"24px\">\n",
              "    <path d=\"M0 0h24v24H0V0z\" fill=\"none\"/>\n",
              "    <path d=\"M18.56 5.44l.94 2.06.94-2.06 2.06-.94-2.06-.94-.94-2.06-.94 2.06-2.06.94zm-11 1L8.5 8.5l.94-2.06 2.06-.94-2.06-.94L8.5 2.5l-.94 2.06-2.06.94zm10 10l.94 2.06.94-2.06 2.06-.94-2.06-.94-.94-2.06-.94 2.06-2.06.94z\"/><path d=\"M17.41 7.96l-1.37-1.37c-.4-.4-.92-.59-1.43-.59-.52 0-1.04.2-1.43.59L10.3 9.45l-7.72 7.72c-.78.78-.78 2.05 0 2.83L4 21.41c.39.39.9.59 1.41.59.51 0 1.02-.2 1.41-.59l7.78-7.78 2.81-2.81c.8-.78.8-2.07 0-2.86zM5.41 20L4 18.59l7.72-7.72 1.47 1.35L5.41 20z\"/>\n",
              "  </svg>\n",
              "      </button>\n",
              "      \n",
              "  <style>\n",
              "    .colab-df-container {\n",
              "      display:flex;\n",
              "      flex-wrap:wrap;\n",
              "      gap: 12px;\n",
              "    }\n",
              "\n",
              "    .colab-df-convert {\n",
              "      background-color: #E8F0FE;\n",
              "      border: none;\n",
              "      border-radius: 50%;\n",
              "      cursor: pointer;\n",
              "      display: none;\n",
              "      fill: #1967D2;\n",
              "      height: 32px;\n",
              "      padding: 0 0 0 0;\n",
              "      width: 32px;\n",
              "    }\n",
              "\n",
              "    .colab-df-convert:hover {\n",
              "      background-color: #E2EBFA;\n",
              "      box-shadow: 0px 1px 2px rgba(60, 64, 67, 0.3), 0px 1px 3px 1px rgba(60, 64, 67, 0.15);\n",
              "      fill: #174EA6;\n",
              "    }\n",
              "\n",
              "    [theme=dark] .colab-df-convert {\n",
              "      background-color: #3B4455;\n",
              "      fill: #D2E3FC;\n",
              "    }\n",
              "\n",
              "    [theme=dark] .colab-df-convert:hover {\n",
              "      background-color: #434B5C;\n",
              "      box-shadow: 0px 1px 3px 1px rgba(0, 0, 0, 0.15);\n",
              "      filter: drop-shadow(0px 1px 2px rgba(0, 0, 0, 0.3));\n",
              "      fill: #FFFFFF;\n",
              "    }\n",
              "  </style>\n",
              "\n",
              "      <script>\n",
              "        const buttonEl =\n",
              "          document.querySelector('#df-7a3dcb8e-15c4-46d6-8b0f-752000c72e26 button.colab-df-convert');\n",
              "        buttonEl.style.display =\n",
              "          google.colab.kernel.accessAllowed ? 'block' : 'none';\n",
              "\n",
              "        async function convertToInteractive(key) {\n",
              "          const element = document.querySelector('#df-7a3dcb8e-15c4-46d6-8b0f-752000c72e26');\n",
              "          const dataTable =\n",
              "            await google.colab.kernel.invokeFunction('convertToInteractive',\n",
              "                                                     [key], {});\n",
              "          if (!dataTable) return;\n",
              "\n",
              "          const docLinkHtml = 'Like what you see? Visit the ' +\n",
              "            '<a target=\"_blank\" href=https://colab.research.google.com/notebooks/data_table.ipynb>data table notebook</a>'\n",
              "            + ' to learn more about interactive tables.';\n",
              "          element.innerHTML = '';\n",
              "          dataTable['output_type'] = 'display_data';\n",
              "          await google.colab.output.renderOutput(dataTable, element);\n",
              "          const docLink = document.createElement('div');\n",
              "          docLink.innerHTML = docLinkHtml;\n",
              "          element.appendChild(docLink);\n",
              "        }\n",
              "      </script>\n",
              "    </div>\n",
              "  </div>\n",
              "  "
            ],
            "text/plain": [
              "                                          tweets_txt  ...                                         lemmatized\n",
              "0  dla mnie faworytem do tytułu będzie cracovia. ...  ...      faworyt tytuł cracovia zobaczyć typ sprawdzić\n",
              "1  @anonymized_account @anonymized_account brawo ...  ...                        brawo daria kibic dobry zły\n",
              "2  @anonymized_account @anonymized_account super,...  ...  super polski premiera składać kwiat grób kolab...\n",
              "3  @anonymized_account @anonymized_account musi. ...  ...                                         inny droga\n",
              "4    odrzut natychmiastowy, kwaśna mina, mam problem  ...          odrzut natychmiastowy kwaśny mina problem\n",
              "\n",
              "[5 rows x 5 columns]"
            ]
          },
          "metadata": {},
          "execution_count": 38
        }
      ]
    },
    {
      "cell_type": "markdown",
      "source": [
        "## Cleaned data exploration"
      ],
      "metadata": {
        "id": "U5gvNMMe1UUS"
      }
    },
    {
      "cell_type": "code",
      "source": [
        "def wordcloud_plot(text: str, bg='white'):\n",
        "  wordcloud = WordCloud(min_font_size=5, #4\n",
        "                        max_words=150, #200\n",
        "                        background_color=bg,\n",
        "                        ).generate(text)\n",
        "  plt.figure(figsize=(10, 8))\n",
        "  plt.imshow(wordcloud)\n",
        "  plt.axis('off')\n",
        "  plt.plot()"
      ],
      "metadata": {
        "id": "noc3k62x1ZJa"
      },
      "execution_count": 39,
      "outputs": []
    },
    {
      "cell_type": "code",
      "source": [
        "tweets = df['cleaned_text'].to_string()\n",
        "wordcloud_plot(tweets)"
      ],
      "metadata": {
        "colab": {
          "base_uri": "https://localhost:8080/",
          "height": 310
        },
        "id": "IySYLvXv2wXI",
        "outputId": "adac58d4-42ff-4cd7-c10c-93edd582dd8e"
      },
      "execution_count": 40,
      "outputs": [
        {
          "output_type": "display_data",
          "data": {
            "image/png": "[encoded data removed]",
            "text/plain": [
              "<Figure size 720x576 with 1 Axes>"
            ]
          },
          "metadata": {
            "needs_background": "light"
          }
        }
      ]
    },
    {
      "cell_type": "code",
      "source": [
        "plot_most_common(tweets, top=30, title='Top 30 most common words in cleaned dataset')"
      ],
      "metadata": {
        "colab": {
          "base_uri": "https://localhost:8080/",
          "height": 379
        },
        "id": "ID6bPv9L2x5T",
        "outputId": "cc8f0875-b4f5-4241-e8c9-ccc56f1e30e6"
      },
      "execution_count": 41,
      "outputs": [
        {
          "output_type": "stream",
          "name": "stdout",
          "text": [
            "Found 64686 words.\n"
          ]
        },
        {
          "output_type": "display_data",
          "data": {
            "image/png": "[encoded data removed]",
            "text/plain": [
              "<Figure size 1080x360 with 1 Axes>"
            ]
          },
          "metadata": {
            "needs_background": "light"
          }
        }
      ]
    },
    {
      "cell_type": "markdown",
      "source": [
        "## Write preprocessed data to Drive"
      ],
      "metadata": {
        "id": "5Sbn3QHCgIf5"
      }
    },
    {
      "cell_type": "code",
      "source": [
        "train_data = train_data.astype(str)\n",
        "test_data = test_data.astype(str)\n",
        "df = df.astype(str)"
      ],
      "metadata": {
        "id": "mUghGmTnbuuW"
      },
      "execution_count": 76,
      "outputs": []
    },
    {
      "cell_type": "code",
      "source": [
        "## left joining df preprocessed data with original train_data\n",
        "train_data_preprocessed = pd.merge(train_data, df, left_index=True, right_index=True)\n",
        "train_data_preprocessed = train_data_preprocessed.drop(['tweets_txt_x', 'label_x'], axis= 1)\n",
        "train_data_preprocessed = train_data_preprocessed.rename(columns = {'tweets_txt_y' : 'tweets_txt', 'label_y':'label'})\n",
        "train_data_preprocessed.head()"
      ],
      "metadata": {
        "colab": {
          "base_uri": "https://localhost:8080/",
          "height": 206
        },
        "id": "j4WbNdeXek-8",
        "outputId": "4a9f9f75-4e6d-45c3-d9bb-e3b17266c297"
      },
      "execution_count": 75,
      "outputs": [
        {
          "output_type": "execute_result",
          "data": {
            "text/html": [
              "\n",
              "  <div id=\"df-f180673e-7d70-433d-97f2-77ea90f225e3\">\n",
              "    <div class=\"colab-df-container\">\n",
              "      <div>\n",
              "<style scoped>\n",
              "    .dataframe tbody tr th:only-of-type {\n",
              "        vertical-align: middle;\n",
              "    }\n",
              "\n",
              "    .dataframe tbody tr th {\n",
              "        vertical-align: top;\n",
              "    }\n",
              "\n",
              "    .dataframe thead th {\n",
              "        text-align: right;\n",
              "    }\n",
              "</style>\n",
              "<table border=\"1\" class=\"dataframe\">\n",
              "  <thead>\n",
              "    <tr style=\"text-align: right;\">\n",
              "      <th></th>\n",
              "      <th>tweets_txt</th>\n",
              "      <th>label</th>\n",
              "      <th>clean_tokenized</th>\n",
              "      <th>cleaned_text</th>\n",
              "      <th>lemmatized</th>\n",
              "    </tr>\n",
              "  </thead>\n",
              "  <tbody>\n",
              "    <tr>\n",
              "      <th>0</th>\n",
              "      <td>dla mnie faworytem do tytułu będzie cracovia. ...</td>\n",
              "      <td>Neutral</td>\n",
              "      <td>['faworytem', 'tytułu', 'cracovia', 'zobaczymy...</td>\n",
              "      <td>faworytem tytułu cracovia zobaczymy typ sprawdzi</td>\n",
              "      <td>faworyt tytuł cracovia zobaczyć typ sprawdzić</td>\n",
              "    </tr>\n",
              "    <tr>\n",
              "      <th>1</th>\n",
              "      <td>@anonymized_account @anonymized_account brawo ...</td>\n",
              "      <td>Neutral</td>\n",
              "      <td>['brawo', 'daria', 'kibic', 'dobre', 'złe']</td>\n",
              "      <td>brawo daria kibic dobre złe</td>\n",
              "      <td>brawo daria kibic dobry zły</td>\n",
              "    </tr>\n",
              "    <tr>\n",
              "      <th>2</th>\n",
              "      <td>@anonymized_account @anonymized_account super,...</td>\n",
              "      <td>Neutral</td>\n",
              "      <td>['super', 'polski', 'premier', 'składa', 'kwia...</td>\n",
              "      <td>super polski premier składa kwiaty grobach kol...</td>\n",
              "      <td>super polski premiera składać kwiat grób kolab...</td>\n",
              "    </tr>\n",
              "    <tr>\n",
              "      <th>3</th>\n",
              "      <td>@anonymized_account @anonymized_account musi. ...</td>\n",
              "      <td>Neutral</td>\n",
              "      <td>['innej', 'drogi']</td>\n",
              "      <td>innej drogi</td>\n",
              "      <td>inny droga</td>\n",
              "    </tr>\n",
              "    <tr>\n",
              "      <th>4</th>\n",
              "      <td>odrzut natychmiastowy, kwaśna mina, mam problem</td>\n",
              "      <td>Neutral</td>\n",
              "      <td>['odrzut', 'natychmiastowy', 'kwaśna', 'mina',...</td>\n",
              "      <td>odrzut natychmiastowy kwaśna mina problem</td>\n",
              "      <td>odrzut natychmiastowy kwaśny mina problem</td>\n",
              "    </tr>\n",
              "  </tbody>\n",
              "</table>\n",
              "</div>\n",
              "      <button class=\"colab-df-convert\" onclick=\"convertToInteractive('df-f180673e-7d70-433d-97f2-77ea90f225e3')\"\n",
              "              title=\"Convert this dataframe to an interactive table.\"\n",
              "              style=\"display:none;\">\n",
              "        \n",
              "  <svg xmlns=\"http://www.w3.org/2000/svg\" height=\"24px\"viewBox=\"0 0 24 24\"\n",
              "       width=\"24px\">\n",
              "    <path d=\"M0 0h24v24H0V0z\" fill=\"none\"/>\n",
              "    <path d=\"M18.56 5.44l.94 2.06.94-2.06 2.06-.94-2.06-.94-.94-2.06-.94 2.06-2.06.94zm-11 1L8.5 8.5l.94-2.06 2.06-.94-2.06-.94L8.5 2.5l-.94 2.06-2.06.94zm10 10l.94 2.06.94-2.06 2.06-.94-2.06-.94-.94-2.06-.94 2.06-2.06.94z\"/><path d=\"M17.41 7.96l-1.37-1.37c-.4-.4-.92-.59-1.43-.59-.52 0-1.04.2-1.43.59L10.3 9.45l-7.72 7.72c-.78.78-.78 2.05 0 2.83L4 21.41c.39.39.9.59 1.41.59.51 0 1.02-.2 1.41-.59l7.78-7.78 2.81-2.81c.8-.78.8-2.07 0-2.86zM5.41 20L4 18.59l7.72-7.72 1.47 1.35L5.41 20z\"/>\n",
              "  </svg>\n",
              "      </button>\n",
              "      \n",
              "  <style>\n",
              "    .colab-df-container {\n",
              "      display:flex;\n",
              "      flex-wrap:wrap;\n",
              "      gap: 12px;\n",
              "    }\n",
              "\n",
              "    .colab-df-convert {\n",
              "      background-color: #E8F0FE;\n",
              "      border: none;\n",
              "      border-radius: 50%;\n",
              "      cursor: pointer;\n",
              "      display: none;\n",
              "      fill: #1967D2;\n",
              "      height: 32px;\n",
              "      padding: 0 0 0 0;\n",
              "      width: 32px;\n",
              "    }\n",
              "\n",
              "    .colab-df-convert:hover {\n",
              "      background-color: #E2EBFA;\n",
              "      box-shadow: 0px 1px 2px rgba(60, 64, 67, 0.3), 0px 1px 3px 1px rgba(60, 64, 67, 0.15);\n",
              "      fill: #174EA6;\n",
              "    }\n",
              "\n",
              "    [theme=dark] .colab-df-convert {\n",
              "      background-color: #3B4455;\n",
              "      fill: #D2E3FC;\n",
              "    }\n",
              "\n",
              "    [theme=dark] .colab-df-convert:hover {\n",
              "      background-color: #434B5C;\n",
              "      box-shadow: 0px 1px 3px 1px rgba(0, 0, 0, 0.15);\n",
              "      filter: drop-shadow(0px 1px 2px rgba(0, 0, 0, 0.3));\n",
              "      fill: #FFFFFF;\n",
              "    }\n",
              "  </style>\n",
              "\n",
              "      <script>\n",
              "        const buttonEl =\n",
              "          document.querySelector('#df-f180673e-7d70-433d-97f2-77ea90f225e3 button.colab-df-convert');\n",
              "        buttonEl.style.display =\n",
              "          google.colab.kernel.accessAllowed ? 'block' : 'none';\n",
              "\n",
              "        async function convertToInteractive(key) {\n",
              "          const element = document.querySelector('#df-f180673e-7d70-433d-97f2-77ea90f225e3');\n",
              "          const dataTable =\n",
              "            await google.colab.kernel.invokeFunction('convertToInteractive',\n",
              "                                                     [key], {});\n",
              "          if (!dataTable) return;\n",
              "\n",
              "          const docLinkHtml = 'Like what you see? Visit the ' +\n",
              "            '<a target=\"_blank\" href=https://colab.research.google.com/notebooks/data_table.ipynb>data table notebook</a>'\n",
              "            + ' to learn more about interactive tables.';\n",
              "          element.innerHTML = '';\n",
              "          dataTable['output_type'] = 'display_data';\n",
              "          await google.colab.output.renderOutput(dataTable, element);\n",
              "          const docLink = document.createElement('div');\n",
              "          docLink.innerHTML = docLinkHtml;\n",
              "          element.appendChild(docLink);\n",
              "        }\n",
              "      </script>\n",
              "    </div>\n",
              "  </div>\n",
              "  "
            ],
            "text/plain": [
              "                                          tweets_txt  ...                                         lemmatized\n",
              "0  dla mnie faworytem do tytułu będzie cracovia. ...  ...      faworyt tytuł cracovia zobaczyć typ sprawdzić\n",
              "1  @anonymized_account @anonymized_account brawo ...  ...                        brawo daria kibic dobry zły\n",
              "2  @anonymized_account @anonymized_account super,...  ...  super polski premiera składać kwiat grób kolab...\n",
              "3  @anonymized_account @anonymized_account musi. ...  ...                                         inny droga\n",
              "4    odrzut natychmiastowy, kwaśna mina, mam problem  ...          odrzut natychmiastowy kwaśny mina problem\n",
              "\n",
              "[5 rows x 5 columns]"
            ]
          },
          "metadata": {},
          "execution_count": 75
        }
      ]
    },
    {
      "cell_type": "code",
      "source": [
        "test_data_preprocessed = pd.merge(test_data, df, left_index=True, right_index=True)\n",
        "test_data_preprocessed = test_data_preprocessed.drop(['tweets_txt_x', 'label_x'], axis= 1)\n",
        "test_data_preprocessed = test_data_preprocessed.rename(columns = {'tweets_txt_y' : 'tweets_txt', 'label_y':'label'})\n",
        "test_data_preprocessed.head()"
      ],
      "metadata": {
        "colab": {
          "base_uri": "https://localhost:8080/",
          "height": 206
        },
        "id": "zuGqte2ZZwtK",
        "outputId": "0120aaa2-2fb1-48c8-841e-a9361431adfd"
      },
      "execution_count": 77,
      "outputs": [
        {
          "output_type": "execute_result",
          "data": {
            "text/html": [
              "\n",
              "  <div id=\"df-3e43ef96-9fa1-4e5a-95ba-81671d4748b7\">\n",
              "    <div class=\"colab-df-container\">\n",
              "      <div>\n",
              "<style scoped>\n",
              "    .dataframe tbody tr th:only-of-type {\n",
              "        vertical-align: middle;\n",
              "    }\n",
              "\n",
              "    .dataframe tbody tr th {\n",
              "        vertical-align: top;\n",
              "    }\n",
              "\n",
              "    .dataframe thead th {\n",
              "        text-align: right;\n",
              "    }\n",
              "</style>\n",
              "<table border=\"1\" class=\"dataframe\">\n",
              "  <thead>\n",
              "    <tr style=\"text-align: right;\">\n",
              "      <th></th>\n",
              "      <th>tweets_txt</th>\n",
              "      <th>label</th>\n",
              "      <th>clean_tokenized</th>\n",
              "      <th>cleaned_text</th>\n",
              "      <th>lemmatized</th>\n",
              "    </tr>\n",
              "  </thead>\n",
              "  <tbody>\n",
              "    <tr>\n",
              "      <th>0</th>\n",
              "      <td>dla mnie faworytem do tytułu będzie cracovia. ...</td>\n",
              "      <td>Neutral</td>\n",
              "      <td>['faworytem', 'tytułu', 'cracovia', 'zobaczymy...</td>\n",
              "      <td>faworytem tytułu cracovia zobaczymy typ sprawdzi</td>\n",
              "      <td>faworyt tytuł cracovia zobaczyć typ sprawdzić</td>\n",
              "    </tr>\n",
              "    <tr>\n",
              "      <th>1</th>\n",
              "      <td>@anonymized_account @anonymized_account brawo ...</td>\n",
              "      <td>Neutral</td>\n",
              "      <td>['brawo', 'daria', 'kibic', 'dobre', 'złe']</td>\n",
              "      <td>brawo daria kibic dobre złe</td>\n",
              "      <td>brawo daria kibic dobry zły</td>\n",
              "    </tr>\n",
              "    <tr>\n",
              "      <th>2</th>\n",
              "      <td>@anonymized_account @anonymized_account super,...</td>\n",
              "      <td>Neutral</td>\n",
              "      <td>['super', 'polski', 'premier', 'składa', 'kwia...</td>\n",
              "      <td>super polski premier składa kwiaty grobach kol...</td>\n",
              "      <td>super polski premiera składać kwiat grób kolab...</td>\n",
              "    </tr>\n",
              "    <tr>\n",
              "      <th>3</th>\n",
              "      <td>@anonymized_account @anonymized_account musi. ...</td>\n",
              "      <td>Neutral</td>\n",
              "      <td>['innej', 'drogi']</td>\n",
              "      <td>innej drogi</td>\n",
              "      <td>inny droga</td>\n",
              "    </tr>\n",
              "    <tr>\n",
              "      <th>4</th>\n",
              "      <td>odrzut natychmiastowy, kwaśna mina, mam problem</td>\n",
              "      <td>Neutral</td>\n",
              "      <td>['odrzut', 'natychmiastowy', 'kwaśna', 'mina',...</td>\n",
              "      <td>odrzut natychmiastowy kwaśna mina problem</td>\n",
              "      <td>odrzut natychmiastowy kwaśny mina problem</td>\n",
              "    </tr>\n",
              "  </tbody>\n",
              "</table>\n",
              "</div>\n",
              "      <button class=\"colab-df-convert\" onclick=\"convertToInteractive('df-3e43ef96-9fa1-4e5a-95ba-81671d4748b7')\"\n",
              "              title=\"Convert this dataframe to an interactive table.\"\n",
              "              style=\"display:none;\">\n",
              "        \n",
              "  <svg xmlns=\"http://www.w3.org/2000/svg\" height=\"24px\"viewBox=\"0 0 24 24\"\n",
              "       width=\"24px\">\n",
              "    <path d=\"M0 0h24v24H0V0z\" fill=\"none\"/>\n",
              "    <path d=\"M18.56 5.44l.94 2.06.94-2.06 2.06-.94-2.06-.94-.94-2.06-.94 2.06-2.06.94zm-11 1L8.5 8.5l.94-2.06 2.06-.94-2.06-.94L8.5 2.5l-.94 2.06-2.06.94zm10 10l.94 2.06.94-2.06 2.06-.94-2.06-.94-.94-2.06-.94 2.06-2.06.94z\"/><path d=\"M17.41 7.96l-1.37-1.37c-.4-.4-.92-.59-1.43-.59-.52 0-1.04.2-1.43.59L10.3 9.45l-7.72 7.72c-.78.78-.78 2.05 0 2.83L4 21.41c.39.39.9.59 1.41.59.51 0 1.02-.2 1.41-.59l7.78-7.78 2.81-2.81c.8-.78.8-2.07 0-2.86zM5.41 20L4 18.59l7.72-7.72 1.47 1.35L5.41 20z\"/>\n",
              "  </svg>\n",
              "      </button>\n",
              "      \n",
              "  <style>\n",
              "    .colab-df-container {\n",
              "      display:flex;\n",
              "      flex-wrap:wrap;\n",
              "      gap: 12px;\n",
              "    }\n",
              "\n",
              "    .colab-df-convert {\n",
              "      background-color: #E8F0FE;\n",
              "      border: none;\n",
              "      border-radius: 50%;\n",
              "      cursor: pointer;\n",
              "      display: none;\n",
              "      fill: #1967D2;\n",
              "      height: 32px;\n",
              "      padding: 0 0 0 0;\n",
              "      width: 32px;\n",
              "    }\n",
              "\n",
              "    .colab-df-convert:hover {\n",
              "      background-color: #E2EBFA;\n",
              "      box-shadow: 0px 1px 2px rgba(60, 64, 67, 0.3), 0px 1px 3px 1px rgba(60, 64, 67, 0.15);\n",
              "      fill: #174EA6;\n",
              "    }\n",
              "\n",
              "    [theme=dark] .colab-df-convert {\n",
              "      background-color: #3B4455;\n",
              "      fill: #D2E3FC;\n",
              "    }\n",
              "\n",
              "    [theme=dark] .colab-df-convert:hover {\n",
              "      background-color: #434B5C;\n",
              "      box-shadow: 0px 1px 3px 1px rgba(0, 0, 0, 0.15);\n",
              "      filter: drop-shadow(0px 1px 2px rgba(0, 0, 0, 0.3));\n",
              "      fill: #FFFFFF;\n",
              "    }\n",
              "  </style>\n",
              "\n",
              "      <script>\n",
              "        const buttonEl =\n",
              "          document.querySelector('#df-3e43ef96-9fa1-4e5a-95ba-81671d4748b7 button.colab-df-convert');\n",
              "        buttonEl.style.display =\n",
              "          google.colab.kernel.accessAllowed ? 'block' : 'none';\n",
              "\n",
              "        async function convertToInteractive(key) {\n",
              "          const element = document.querySelector('#df-3e43ef96-9fa1-4e5a-95ba-81671d4748b7');\n",
              "          const dataTable =\n",
              "            await google.colab.kernel.invokeFunction('convertToInteractive',\n",
              "                                                     [key], {});\n",
              "          if (!dataTable) return;\n",
              "\n",
              "          const docLinkHtml = 'Like what you see? Visit the ' +\n",
              "            '<a target=\"_blank\" href=https://colab.research.google.com/notebooks/data_table.ipynb>data table notebook</a>'\n",
              "            + ' to learn more about interactive tables.';\n",
              "          element.innerHTML = '';\n",
              "          dataTable['output_type'] = 'display_data';\n",
              "          await google.colab.output.renderOutput(dataTable, element);\n",
              "          const docLink = document.createElement('div');\n",
              "          docLink.innerHTML = docLinkHtml;\n",
              "          element.appendChild(docLink);\n",
              "        }\n",
              "      </script>\n",
              "    </div>\n",
              "  </div>\n",
              "  "
            ],
            "text/plain": [
              "                                          tweets_txt  ...                                         lemmatized\n",
              "0  dla mnie faworytem do tytułu będzie cracovia. ...  ...      faworyt tytuł cracovia zobaczyć typ sprawdzić\n",
              "1  @anonymized_account @anonymized_account brawo ...  ...                        brawo daria kibic dobry zły\n",
              "2  @anonymized_account @anonymized_account super,...  ...  super polski premiera składać kwiat grób kolab...\n",
              "3  @anonymized_account @anonymized_account musi. ...  ...                                         inny droga\n",
              "4    odrzut natychmiastowy, kwaśna mina, mam problem  ...          odrzut natychmiastowy kwaśny mina problem\n",
              "\n",
              "[5 rows x 5 columns]"
            ]
          },
          "metadata": {},
          "execution_count": 77
        }
      ]
    },
    {
      "cell_type": "code",
      "source": [
        "# save preprocessed data \n",
        "test_data_preprocessed.to_csv(\"/content/drive/MyDrive/test_data_preprocessed.csv\")\n",
        "train_data_preprocessed.to_csv(\"/content/drive/MyDrive/train_data_preprocessed.csv\")"
      ],
      "metadata": {
        "id": "bi0b98a7S4FG"
      },
      "execution_count": 78,
      "outputs": []
    }
  ]
}