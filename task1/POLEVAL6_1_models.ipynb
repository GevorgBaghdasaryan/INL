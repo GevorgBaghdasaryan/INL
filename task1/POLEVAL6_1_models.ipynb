{
  "nbformat": 4,
  "nbformat_minor": 0,
  "metadata": {
    "colab": {
      "name": "POLEVAL6.1_models.ipynb",
      "provenance": [],
      "collapsed_sections": []
    },
    "kernelspec": {
      "name": "python3",
      "display_name": "Python 3"
    },
    "language_info": {
      "name": "python"
    }
  },
  "cells": [
    {
      "cell_type": "markdown",
      "source": [
        "# 2019 POLEVAL TASK 6.1\n",
        "**Fit ML models**\n",
        "\n",
        "\n",
        "---\n",
        "\n",
        "\n",
        "\n",
        "\n",
        "\n",
        "http://2019.poleval.pl/index.php/tasks/task6\n"
      ],
      "metadata": {
        "id": "kTigSmskg1wR"
      }
    },
    {
      "cell_type": "markdown",
      "source": [
        "## To install and download"
      ],
      "metadata": {
        "id": "zlALc8A9NOL7"
      }
    },
    {
      "cell_type": "code",
      "execution_count": 40,
      "metadata": {
        "id": "ENfVBrKSgxR8"
      },
      "outputs": [],
      "source": [
        "from IPython.display import clear_output\n",
        "import pandas as pd\n",
        "from pydrive.auth import GoogleAuth\n",
        "from pydrive.drive import GoogleDrive\n",
        "from google.colab import auth\n",
        "from oauth2client.client import GoogleCredentials\n",
        "import re\n",
        "import numpy as np\n",
        "import string\n",
        "import time\n",
        "\n",
        "# sklearn - modele do ML\n",
        "from sklearn.svm import LinearSVC\n",
        "from sklearn.naive_bayes import GaussianNB\n",
        "from sklearn.linear_model import LogisticRegression\n",
        "from sklearn.model_selection import train_test_split\n",
        "from sklearn.feature_extraction.text import TfidfVectorizer\n",
        "from sklearn.metrics import confusion_matrix, classification_report\n",
        "from sklearn.metrics import roc_auc_score\n",
        "from sklearn.metrics import roc_curve, auc\n",
        "from sklearn.multiclass import OneVsRestClassifier\n",
        "from sklearn.svm import SVC\n",
        "import seaborn as sns\n",
        "# model\n",
        "import tensorflow as tf\n",
        "import keras\n",
        "from keras.models import Sequential\n",
        "from keras import layers\n",
        "from tensorflow.keras.optimizers import RMSprop, Adam\n",
        "from keras.preprocessing.text import Tokenizer\n",
        "from keras.preprocessing.sequence import pad_sequences\n",
        "from keras import regularizers\n",
        "from keras import backend as K\n",
        "from keras.callbacks import ModelCheckpoint\n",
        "from sklearn.model_selection import train_test_split\n",
        "\n",
        "# ewaluacja\n",
        "from sklearn.metrics import confusion_matrix\n",
        "import matplotlib.pyplot as plt\n",
        "\n",
        "\n",
        "import warnings\n",
        "warnings.filterwarnings('ignore')"
      ]
    },
    {
      "cell_type": "code",
      "source": [
        "#Authenticate\n",
        "from google.colab import drive\n",
        "drive.mount('/content/drive/')"
      ],
      "metadata": {
        "colab": {
          "base_uri": "https://localhost:8080/"
        },
        "id": "QFW7zeHfdsYM",
        "outputId": "1117b8f7-1ed9-46cb-f8e9-70a5147bb097"
      },
      "execution_count": 2,
      "outputs": [
        {
          "output_type": "stream",
          "name": "stdout",
          "text": [
            "Mounted at /content/drive/\n"
          ]
        }
      ]
    },
    {
      "cell_type": "code",
      "source": [
        "path1 = '/content/drive/MyDrive/POLEVAL_6.1/train_data_preprocessed.csv' \n",
        "path2 = '/content/drive/MyDrive/POLEVAL_6.1/test_data_preprocessed.csv'  \n",
        "\n",
        "train_data = pd.read_csv(path1, delimiter = \",\")\n",
        "test_data = pd.read_csv(path2, delimiter = \",\")\n",
        "train_data = train_data.drop([\"Unnamed: 0\"], axis = 1)\n",
        "test_data = test_data.drop([\"Unnamed: 0\"], axis = 1)\n",
        "\n",
        "test_data.head()"
      ],
      "metadata": {
        "colab": {
          "base_uri": "https://localhost:8080/",
          "height": 302
        },
        "id": "ElHk4du5h6Sr",
        "outputId": "0c615e35-c433-472c-ade8-516060f870c8"
      },
      "execution_count": 42,
      "outputs": [
        {
          "output_type": "execute_result",
          "data": {
            "text/html": [
              "\n",
              "  <div id=\"df-1e7ce707-52b8-46dc-9d45-035ab8a39778\">\n",
              "    <div class=\"colab-df-container\">\n",
              "      <div>\n",
              "<style scoped>\n",
              "    .dataframe tbody tr th:only-of-type {\n",
              "        vertical-align: middle;\n",
              "    }\n",
              "\n",
              "    .dataframe tbody tr th {\n",
              "        vertical-align: top;\n",
              "    }\n",
              "\n",
              "    .dataframe thead th {\n",
              "        text-align: right;\n",
              "    }\n",
              "</style>\n",
              "<table border=\"1\" class=\"dataframe\">\n",
              "  <thead>\n",
              "    <tr style=\"text-align: right;\">\n",
              "      <th></th>\n",
              "      <th>tweets_txt</th>\n",
              "      <th>tag</th>\n",
              "      <th>tag_val_x</th>\n",
              "      <th>tag_val_y</th>\n",
              "      <th>clean_tokenized</th>\n",
              "      <th>cleaned_text</th>\n",
              "      <th>lemmatized</th>\n",
              "    </tr>\n",
              "  </thead>\n",
              "  <tbody>\n",
              "    <tr>\n",
              "      <th>0</th>\n",
              "      <td>@anonymized_account spoko, jak im duda z moraw...</td>\n",
              "      <td>0</td>\n",
              "      <td>Neutral</td>\n",
              "      <td>Neutral</td>\n",
              "      <td>['spoko', 'duda', 'morawieckim', 'zamówią', 'p...</td>\n",
              "      <td>spoko duda morawieckim zamówią pięć piw</td>\n",
              "      <td>spoko duda morawieckim zamówić pięć piwo</td>\n",
              "    </tr>\n",
              "    <tr>\n",
              "      <th>1</th>\n",
              "      <td>@anonymized_account @anonymized_account ale on...</td>\n",
              "      <td>0</td>\n",
              "      <td>Neutral</td>\n",
              "      <td>Neutral</td>\n",
              "      <td>['szans', 'zagrania', 'proba', 'czysta', 'prow...</td>\n",
              "      <td>szans zagrania proba czysta prowizorka</td>\n",
              "      <td>szansa zagranie proba czysty prowizorka</td>\n",
              "    </tr>\n",
              "    <tr>\n",
              "      <th>2</th>\n",
              "      <td>@anonymized_account no czy prezes nie miał rac...</td>\n",
              "      <td>0</td>\n",
              "      <td>Neutral</td>\n",
              "      <td>Neutral</td>\n",
              "      <td>['prezes', 'racji', 'mówiącze', 'zdradzieckie'...</td>\n",
              "      <td>prezes racji mówiącze zdradzieckie mordy racji</td>\n",
              "      <td>prezes racja mówiącze zdradziecki morda racja</td>\n",
              "    </tr>\n",
              "    <tr>\n",
              "      <th>3</th>\n",
              "      <td>@anonymized_account @anonymized_account przeci...</td>\n",
              "      <td>0</td>\n",
              "      <td>Neutral</td>\n",
              "      <td>Neutral</td>\n",
              "      <td>['przewrotka']</td>\n",
              "      <td>przewrotka</td>\n",
              "      <td>przewrotka</td>\n",
              "    </tr>\n",
              "    <tr>\n",
              "      <th>4</th>\n",
              "      <td>@anonymized_account @anonymized_account owszem...</td>\n",
              "      <td>0</td>\n",
              "      <td>Neutral</td>\n",
              "      <td>Neutral</td>\n",
              "      <td>['podatki', 'okolicznościach', 'małysza', 'odp...</td>\n",
              "      <td>podatki okolicznościach małysza odpalili teamu...</td>\n",
              "      <td>podatek okoliczność małysza odpalić team orlen</td>\n",
              "    </tr>\n",
              "  </tbody>\n",
              "</table>\n",
              "</div>\n",
              "      <button class=\"colab-df-convert\" onclick=\"convertToInteractive('df-1e7ce707-52b8-46dc-9d45-035ab8a39778')\"\n",
              "              title=\"Convert this dataframe to an interactive table.\"\n",
              "              style=\"display:none;\">\n",
              "        \n",
              "  <svg xmlns=\"http://www.w3.org/2000/svg\" height=\"24px\"viewBox=\"0 0 24 24\"\n",
              "       width=\"24px\">\n",
              "    <path d=\"M0 0h24v24H0V0z\" fill=\"none\"/>\n",
              "    <path d=\"M18.56 5.44l.94 2.06.94-2.06 2.06-.94-2.06-.94-.94-2.06-.94 2.06-2.06.94zm-11 1L8.5 8.5l.94-2.06 2.06-.94-2.06-.94L8.5 2.5l-.94 2.06-2.06.94zm10 10l.94 2.06.94-2.06 2.06-.94-2.06-.94-.94-2.06-.94 2.06-2.06.94z\"/><path d=\"M17.41 7.96l-1.37-1.37c-.4-.4-.92-.59-1.43-.59-.52 0-1.04.2-1.43.59L10.3 9.45l-7.72 7.72c-.78.78-.78 2.05 0 2.83L4 21.41c.39.39.9.59 1.41.59.51 0 1.02-.2 1.41-.59l7.78-7.78 2.81-2.81c.8-.78.8-2.07 0-2.86zM5.41 20L4 18.59l7.72-7.72 1.47 1.35L5.41 20z\"/>\n",
              "  </svg>\n",
              "      </button>\n",
              "      \n",
              "  <style>\n",
              "    .colab-df-container {\n",
              "      display:flex;\n",
              "      flex-wrap:wrap;\n",
              "      gap: 12px;\n",
              "    }\n",
              "\n",
              "    .colab-df-convert {\n",
              "      background-color: #E8F0FE;\n",
              "      border: none;\n",
              "      border-radius: 50%;\n",
              "      cursor: pointer;\n",
              "      display: none;\n",
              "      fill: #1967D2;\n",
              "      height: 32px;\n",
              "      padding: 0 0 0 0;\n",
              "      width: 32px;\n",
              "    }\n",
              "\n",
              "    .colab-df-convert:hover {\n",
              "      background-color: #E2EBFA;\n",
              "      box-shadow: 0px 1px 2px rgba(60, 64, 67, 0.3), 0px 1px 3px 1px rgba(60, 64, 67, 0.15);\n",
              "      fill: #174EA6;\n",
              "    }\n",
              "\n",
              "    [theme=dark] .colab-df-convert {\n",
              "      background-color: #3B4455;\n",
              "      fill: #D2E3FC;\n",
              "    }\n",
              "\n",
              "    [theme=dark] .colab-df-convert:hover {\n",
              "      background-color: #434B5C;\n",
              "      box-shadow: 0px 1px 3px 1px rgba(0, 0, 0, 0.15);\n",
              "      filter: drop-shadow(0px 1px 2px rgba(0, 0, 0, 0.3));\n",
              "      fill: #FFFFFF;\n",
              "    }\n",
              "  </style>\n",
              "\n",
              "      <script>\n",
              "        const buttonEl =\n",
              "          document.querySelector('#df-1e7ce707-52b8-46dc-9d45-035ab8a39778 button.colab-df-convert');\n",
              "        buttonEl.style.display =\n",
              "          google.colab.kernel.accessAllowed ? 'block' : 'none';\n",
              "\n",
              "        async function convertToInteractive(key) {\n",
              "          const element = document.querySelector('#df-1e7ce707-52b8-46dc-9d45-035ab8a39778');\n",
              "          const dataTable =\n",
              "            await google.colab.kernel.invokeFunction('convertToInteractive',\n",
              "                                                     [key], {});\n",
              "          if (!dataTable) return;\n",
              "\n",
              "          const docLinkHtml = 'Like what you see? Visit the ' +\n",
              "            '<a target=\"_blank\" href=https://colab.research.google.com/notebooks/data_table.ipynb>data table notebook</a>'\n",
              "            + ' to learn more about interactive tables.';\n",
              "          element.innerHTML = '';\n",
              "          dataTable['output_type'] = 'display_data';\n",
              "          await google.colab.output.renderOutput(dataTable, element);\n",
              "          const docLink = document.createElement('div');\n",
              "          docLink.innerHTML = docLinkHtml;\n",
              "          element.appendChild(docLink);\n",
              "        }\n",
              "      </script>\n",
              "    </div>\n",
              "  </div>\n",
              "  "
            ],
            "text/plain": [
              "                                          tweets_txt  ...                                      lemmatized\n",
              "0  @anonymized_account spoko, jak im duda z moraw...  ...        spoko duda morawieckim zamówić pięć piwo\n",
              "1  @anonymized_account @anonymized_account ale on...  ...         szansa zagranie proba czysty prowizorka\n",
              "2  @anonymized_account no czy prezes nie miał rac...  ...   prezes racja mówiącze zdradziecki morda racja\n",
              "3  @anonymized_account @anonymized_account przeci...  ...                                      przewrotka\n",
              "4  @anonymized_account @anonymized_account owszem...  ...  podatek okoliczność małysza odpalić team orlen\n",
              "\n",
              "[5 rows x 7 columns]"
            ]
          },
          "metadata": {},
          "execution_count": 42
        }
      ]
    },
    {
      "cell_type": "code",
      "source": [
        "X_train = train_data['lemmatized'].astype('U') \n",
        "y_train = train_data['tag'].astype('U') \n",
        "\n",
        "X_test = test_data['lemmatized'].astype('U')\n",
        "y_test = test_data['tag'].astype('U')"
      ],
      "metadata": {
        "id": "3UMXm6Han79Z"
      },
      "execution_count": 43,
      "outputs": []
    },
    {
      "cell_type": "markdown",
      "source": [
        "## Vectorize data"
      ],
      "metadata": {
        "id": "9VjuES4tnrDB"
      }
    },
    {
      "cell_type": "code",
      "source": [
        "vectorizer = TfidfVectorizer(ngram_range=(1,2), max_features=10041)\n",
        "vectors = vectorizer.fit_transform(X_train, X_test)"
      ],
      "metadata": {
        "id": "aepUZL_HnqPF"
      },
      "execution_count": 44,
      "outputs": []
    },
    {
      "cell_type": "code",
      "source": [
        "X_train_vec = vectorizer.transform(X_train)\n",
        "X_test_vec  = vectorizer.transform(X_test)"
      ],
      "metadata": {
        "id": "2MG9WaPSESBD"
      },
      "execution_count": 45,
      "outputs": []
    },
    {
      "cell_type": "markdown",
      "source": [
        "## Define model evaluation function \n",
        "\n",
        "Perl script calculates Precision, Recall, Balanced F-score and Accuracy, however separate function model_Evalute was defined. PERL script was inconvient to run in Python"
      ],
      "metadata": {
        "id": "dHMqPxgGVvvb"
      }
    },
    {
      "cell_type": "code",
      "source": [
        "import subprocess, os\n",
        "model_eval = subprocess.Popen([\"perl\", \"/content/drive/MyDrive/evaluate1.pl\"], stdout=subprocess.PIPE)"
      ],
      "metadata": {
        "id": "0VXzkeKdT8QU"
      },
      "execution_count": 46,
      "outputs": []
    },
    {
      "cell_type": "code",
      "source": [
        "# Assumed it was \n",
        "def model_Evaluate(model):\n",
        "  # Predykcja danych na danych testowych\n",
        "  y_pred = model.predict(X_test_vec)\n",
        "\n",
        "  # Wyświetlenie metryk ewaluacji na podstawie predykcji i ground truth (faktycznych etykiet)\n",
        "  print(classification_report(y_test, y_pred))\n",
        "\n",
        "  # Obliczamy i wyświetlamy confusion matrix\n",
        "  cf_matrix = confusion_matrix(y_test, y_pred)\n",
        "  categories = ['Negative','Positive']\n",
        "  group_names = ['True Neg','False Pos', 'False Neg','True Pos']\n",
        "  group_percentages = ['{0:.2%}'.format(value) for value in cf_matrix.flatten() / np.sum(cf_matrix)]\n",
        "  labels = [f'{v1}n{v2}' for v1, v2 in zip(group_names, group_percentages)]\n",
        "  labels = np.asarray(labels).reshape(2,2)\n",
        "  sns.heatmap(cf_matrix, annot = labels, cmap = 'Blues',fmt = '',\n",
        "  xticklabels = categories, yticklabels = categories)\n",
        "  plt.xlabel(\"Predicted values\", fontdict = {'size':14}, labelpad = 10)\n",
        "  plt.ylabel(\"Actual values\" , fontdict = {'size':14}, labelpad = 10)\n",
        "  plt.title (\"Confusion Matrix\", fontdict = {'size':18}, pad = 20)"
      ],
      "metadata": {
        "id": "T9i5UzJKnpqJ"
      },
      "execution_count": 47,
      "outputs": []
    },
    {
      "cell_type": "markdown",
      "source": [
        "## Model 1 - Linear Support Vector Classification."
      ],
      "metadata": {
        "id": "MuhsWjjVD9he"
      }
    },
    {
      "cell_type": "code",
      "source": [
        "clf = LinearSVC(random_state=0)\n",
        "y_pred1 = clf.fit(X_train_vec, y_train).decision_function(X_test_vec)\n",
        "model_Evaluate(clf)"
      ],
      "metadata": {
        "colab": {
          "base_uri": "https://localhost:8080/",
          "height": 479
        },
        "id": "4pkpVpTCraxG",
        "outputId": "8cc9fb1e-9768-4d43-b878-650e81315dc8"
      },
      "execution_count": 48,
      "outputs": [
        {
          "output_type": "stream",
          "name": "stdout",
          "text": [
            "              precision    recall  f1-score   support\n",
            "\n",
            "           0       0.89      1.00      0.94       866\n",
            "           1       0.91      0.22      0.35       134\n",
            "\n",
            "    accuracy                           0.89      1000\n",
            "   macro avg       0.90      0.61      0.65      1000\n",
            "weighted avg       0.89      0.89      0.86      1000\n",
            "\n"
          ]
        },
        {
          "output_type": "display_data",
          "data": {
            "image/png": "[encoded data removed]",
            "text/plain": [
              "<Figure size 432x288 with 2 Axes>"
            ]
          },
          "metadata": {
            "needs_background": "light"
          }
        }
      ]
    },
    {
      "cell_type": "code",
      "source": [
        "y_test1 = y_test.astype(int)\n",
        "fpr, tpr, thresholds = roc_curve(y_test1, y_pred1)\n",
        "roc_auc = auc(fpr, tpr)\n",
        "plt.figure()\n",
        "plt.plot(fpr, tpr, color='darkorange', lw=1, label='ROC curve (area = %0.2f)' % roc_auc)\n",
        "plt.xlim([0.0, 1.0])\n",
        "plt.ylim([0.0, 1.05])\n",
        "plt.xlabel('False Positive Rate')\n",
        "plt.ylabel('True Positive Rate')\n",
        "plt.title('ROC CURVE')\n",
        "plt.legend(loc=\"lower right\")\n",
        "plt.show()"
      ],
      "metadata": {
        "colab": {
          "base_uri": "https://localhost:8080/",
          "height": 295
        },
        "id": "ZtRm5iLkrftZ",
        "outputId": "473db22e-e5d1-4000-a89c-d8544967360d"
      },
      "execution_count": 49,
      "outputs": [
        {
          "output_type": "display_data",
          "data": {
            "image/png": "[encoded data removed]",
            "text/plain": [
              "<Figure size 432x288 with 1 Axes>"
            ]
          },
          "metadata": {
            "needs_background": "light"
          }
        }
      ]
    },
    {
      "cell_type": "markdown",
      "source": [
        "## Model 2 - Logistic Regression"
      ],
      "metadata": {
        "id": "nYPOJfdCR3nC"
      }
    },
    {
      "cell_type": "code",
      "source": [
        "LRmodel = LogisticRegression(max_iter = 1000)\n",
        "y_pred2 = LRmodel.fit(X_train_vec, y_train).decision_function(X_test_vec)"
      ],
      "metadata": {
        "id": "geTcifx-SAZ6"
      },
      "execution_count": 50,
      "outputs": []
    },
    {
      "cell_type": "code",
      "source": [
        "model_Evaluate(LRmodel)"
      ],
      "metadata": {
        "colab": {
          "base_uri": "https://localhost:8080/",
          "height": 479
        },
        "id": "CMru7B_epAsz",
        "outputId": "04f2f270-f4b6-4158-a06b-afa556ae7580"
      },
      "execution_count": 51,
      "outputs": [
        {
          "output_type": "stream",
          "name": "stdout",
          "text": [
            "              precision    recall  f1-score   support\n",
            "\n",
            "           0       0.87      1.00      0.93       866\n",
            "           1       0.67      0.01      0.03       134\n",
            "\n",
            "    accuracy                           0.87      1000\n",
            "   macro avg       0.77      0.51      0.48      1000\n",
            "weighted avg       0.84      0.87      0.81      1000\n",
            "\n"
          ]
        },
        {
          "output_type": "display_data",
          "data": {
            "image/png": "[encoded data removed]",
            "text/plain": [
              "<Figure size 432x288 with 2 Axes>"
            ]
          },
          "metadata": {
            "needs_background": "light"
          }
        }
      ]
    },
    {
      "cell_type": "code",
      "source": [
        "## ROC Curve\n",
        "y_test2 = y_test.astype(int)\n",
        "fpr, tpr, thresholds = roc_curve(y_test2, y_pred2)\n",
        "roc_auc = auc(fpr, tpr)\n",
        "plt.figure()\n",
        "plt.plot(fpr, tpr, color='darkorange', lw=1, label='ROC curve (area = %0.2f)' % roc_auc)\n",
        "plt.xlim([0.0, 1.0])\n",
        "plt.ylim([0.0, 1.05])\n",
        "plt.xlabel('False Positive Rate')\n",
        "plt.ylabel('True Positive Rate')\n",
        "plt.title('ROC CURVE')\n",
        "plt.legend(loc=\"lower right\")\n",
        "plt.show()"
      ],
      "metadata": {
        "colab": {
          "base_uri": "https://localhost:8080/",
          "height": 295
        },
        "id": "hZWtnVK5pXXd",
        "outputId": "589321f9-9024-4dc9-b136-31cb1740198a"
      },
      "execution_count": 52,
      "outputs": [
        {
          "output_type": "display_data",
          "data": {
            "image/png": "[encoded data removed]",
            "text/plain": [
              "<Figure size 432x288 with 1 Axes>"
            ]
          },
          "metadata": {
            "needs_background": "light"
          }
        }
      ]
    },
    {
      "cell_type": "markdown",
      "source": [
        "## Model 3 - Bidirectional LSTM  ----> TO DO, do skończenia\n"
      ],
      "metadata": {
        "id": "dHH2b_b7pKQp"
      }
    },
    {
      "cell_type": "markdown",
      "source": [
        "### Prepare data for NN model"
      ],
      "metadata": {
        "id": "LKYElwN6sBcS"
      }
    },
    {
      "cell_type": "code",
      "source": [
        "temp = []\n",
        "data_to_list_train = X_train.values.tolist()\n",
        "temp = data_to_list_train\n",
        "list(temp[:5])"
      ],
      "metadata": {
        "colab": {
          "base_uri": "https://localhost:8080/"
        },
        "id": "7WsbOxZmpJzB",
        "outputId": "db709f0f-20da-4afa-8965-6f7788270115"
      },
      "execution_count": 31,
      "outputs": [
        {
          "output_type": "execute_result",
          "data": {
            "text/plain": [
              "['faworyt tytuł cracovia zobaczyć typ sprawdzić',\n",
              " 'brawo daria kibic dobry zły',\n",
              " 'super polski premiera składać kwiat grób kolaborant doczekać czas',\n",
              " 'inny droga',\n",
              " 'odrzut natychmiastowy kwaśny mina problem']"
            ]
          },
          "metadata": {},
          "execution_count": 31
        }
      ]
    },
    {
      "cell_type": "code",
      "source": [
        "temp1 = []\n",
        "data_to_list_test = X_test.values.tolist()\n",
        "temp1 = data_to_list_test\n",
        "list(temp1[:5])"
      ],
      "metadata": {
        "colab": {
          "base_uri": "https://localhost:8080/"
        },
        "id": "cqXmdyhvKZ8g",
        "outputId": "4d599360-a3e5-47b1-d918-48c714f753cc"
      },
      "execution_count": 34,
      "outputs": [
        {
          "output_type": "execute_result",
          "data": {
            "text/plain": [
              "['faworyt tytuł cracovia zobaczyć typ sprawdzić',\n",
              " 'brawo daria kibic dobry zły',\n",
              " 'super polski premiera składać kwiat grób kolaborant doczekać czas',\n",
              " 'inny droga',\n",
              " 'odrzut natychmiastowy kwaśny mina problem']"
            ]
          },
          "metadata": {},
          "execution_count": 34
        }
      ]
    },
    {
      "cell_type": "code",
      "source": [
        "data= np.array(temp)\n",
        "data[:5]"
      ],
      "metadata": {
        "colab": {
          "base_uri": "https://localhost:8080/"
        },
        "id": "etBzzM6BIG8l",
        "outputId": "d59e4711-5263-4128-e2c2-ae7a1f26aac1"
      },
      "execution_count": 32,
      "outputs": [
        {
          "output_type": "execute_result",
          "data": {
            "text/plain": [
              "array(['faworyt tytuł cracovia zobaczyć typ sprawdzić',\n",
              "       'brawo daria kibic dobry zły',\n",
              "       'super polski premiera składać kwiat grób kolaborant doczekać czas',\n",
              "       'inny droga', 'odrzut natychmiastowy kwaśny mina problem'],\n",
              "      dtype='<U131')"
            ]
          },
          "metadata": {},
          "execution_count": 32
        }
      ]
    },
    {
      "cell_type": "markdown",
      "source": [
        "### Zamiana danych na wartości numeryczne\n"
      ],
      "metadata": {
        "id": "w1_lsWrhI9N-"
      }
    },
    {
      "cell_type": "code",
      "source": [
        "labels = np.array(X_train['sentiments_val'])\n",
        "y = []\n",
        "for i in range(len(labels)):\n",
        "    if labels[i] == \"neutral\":\n",
        "        y.append(0)\n",
        "    if labels[i] == \"positive\":\n",
        "        y.append(1)\n",
        "y = np.array(y)\n",
        "labels = tf.keras.utils.to_categorical(y, 2, dtype=\"float32\")\n",
        "del y"
      ],
      "metadata": {
        "id": "KwbzfYdrJHUm"
      },
      "execution_count": null,
      "outputs": []
    }
  ]
}